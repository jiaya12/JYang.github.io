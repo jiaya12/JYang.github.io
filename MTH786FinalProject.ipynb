{
  "cells": [
    {
      "cell_type": "markdown",
      "metadata": {
        "id": "view-in-github",
        "colab_type": "text"
      },
      "source": [
        "<a href=\"https://colab.research.google.com/github/jiaya12/JYang.github.io/blob/master/MTH786FinalProject.ipynb\" target=\"_parent\"><img src=\"https://colab.research.google.com/assets/colab-badge.svg\" alt=\"Open In Colab\"/></a>"
      ]
    },
    {
      "cell_type": "markdown",
      "metadata": {
        "deletable": false,
        "editable": false,
        "hideCode": false,
        "hidePrompt": false,
        "nbgrader": {
          "cell_type": "markdown",
          "checksum": "cc505a35a137d145834d9122dd44209c",
          "grade": false,
          "grade_id": "cell-HeaderImage",
          "locked": true,
          "schema_version": 3,
          "solution": false,
          "task": false
        },
        "id": "Gjtsv_aBSI-M"
      },
      "source": [
        "![QM.jpg](attachment:QM.jpg)"
      ],
      "id": "Gjtsv_aBSI-M"
    },
    {
      "cell_type": "markdown",
      "metadata": {
        "deletable": false,
        "editable": false,
        "hideCode": false,
        "hidePrompt": false,
        "nbgrader": {
          "cell_type": "markdown",
          "checksum": "22bcdb3a83e87d3d47615db0f4bffa65",
          "grade": false,
          "grade_id": "cell-HeaderText",
          "locked": true,
          "schema_version": 3,
          "solution": false,
          "task": false
        },
        "id": "lW4k_L_bSI-Q"
      },
      "source": [
        "<table width=100%>\n",
        "    <tr>\n",
        "        <td width = 40% align = \"left\">\n",
        "            <h3> MTH786 Machine Learning with Python</h3>\n",
        "        </td>\n",
        "        <td width = 35%>            \n",
        "        </td>\n",
        "        <td width = 25% align = \"left\">\n",
        "            <h3>Semester A, 2021/2022 </h3>\n",
        "        </td>\n",
        "    </tr>\n",
        "    <tr>\n",
        "        <td width = 40% align = \"left\">\n",
        "            <h3> Final Project</h3>\n",
        "        </td>\n",
        "        <td width = 35%>            \n",
        "        </td>\n",
        "        <td width = 25% align = \"left\">\n",
        "            <h3>Dr Mihail Poplavskyi</h3>\n",
        "        </td>\n",
        "    </tr>\n",
        "</table>"
      ],
      "id": "lW4k_L_bSI-Q"
    },
    {
      "cell_type": "markdown",
      "metadata": {
        "deletable": false,
        "editable": false,
        "hideCode": false,
        "hidePrompt": false,
        "nbgrader": {
          "cell_type": "markdown",
          "checksum": "a865d7a3d139de3d6967bc2b4dcc510e",
          "grade": false,
          "grade_id": "cell-HeaderAllert",
          "locked": true,
          "schema_version": 3,
          "solution": false,
          "task": false
        },
        "id": "I_JVrsv6SI-S"
      },
      "source": [
        "Before you turn this problem in, make sure everything runs as expected. First, **restart the kernel** (in the menubar, select Kernel$\\rightarrow$Restart) and then **run all cells** (in the menubar, select Cell$\\rightarrow$Run All).\n",
        "\n",
        "Make sure you fill in any place that says `YOUR CODE HERE` and that you delete any **raise NotImplementedError()** once you have filled in your code. Enter your name and student identifier below:"
      ],
      "id": "I_JVrsv6SI-S"
    },
    {
      "cell_type": "code",
      "execution_count": null,
      "metadata": {
        "ExecuteTime": {
          "end_time": "2021-12-24T15:19:21.422737Z",
          "start_time": "2021-12-24T15:19:21.407137Z"
        },
        "id": "PJTx8P6lSI-T"
      },
      "outputs": [],
      "source": [
        "StudentName = \"Guowen Ji\""
      ],
      "id": "PJTx8P6lSI-T"
    },
    {
      "cell_type": "code",
      "execution_count": null,
      "metadata": {
        "ExecuteTime": {
          "end_time": "2021-12-24T15:19:21.981990Z",
          "start_time": "2021-12-24T15:19:21.427114Z"
        },
        "hideCode": false,
        "hidePrompt": false,
        "id": "Ghd3mlMVSI-U"
      },
      "outputs": [],
      "source": [
        "StudentID = 210166275"
      ],
      "id": "Ghd3mlMVSI-U"
    },
    {
      "cell_type": "markdown",
      "metadata": {
        "deletable": false,
        "editable": false,
        "hideCode": false,
        "hidePrompt": false,
        "nbgrader": {
          "cell_type": "markdown",
          "checksum": "ba2645a1453519984f0724177dcb6817",
          "grade": false,
          "grade_id": "cell-STUDENTIDRemainder",
          "locked": true,
          "schema_version": 3,
          "solution": false,
          "task": false
        },
        "id": "uuNSEdRPSI-V"
      },
      "source": [
        "<div class=\"alert alert-block alert-danger\">\n",
        "Please fill the student ID above as it is used for hidden tests generation. Please fill your student name as well.\n",
        "</div>"
      ],
      "id": "uuNSEdRPSI-V"
    },
    {
      "cell_type": "markdown",
      "metadata": {
        "id": "29IiGSKiSI-V"
      },
      "source": [
        "# Sound classification techniques"
      ],
      "id": "29IiGSKiSI-V"
    },
    {
      "cell_type": "markdown",
      "metadata": {
        "id": "nSHXByjMSI-W"
      },
      "source": [
        "This is the coding template for the final assessment of MTH786U/P in Semester A of 2021/2022.\n",
        "\n",
        "The goal of this assessment is to classify audio files by using different sound features and to present your results in a written report (at most $8$ pages). The assessment is formed of three parts: \n",
        "1) filling in the missing parts of this Jupyter notebook,   \n",
        "2) applying learned concepts from this notebook and the module MTH786 in general to the Audio MNIST classification problem, and   \n",
        "3) presenting your results in a written report (written in $\\LaTeX$)."
      ],
      "id": "nSHXByjMSI-W"
    },
    {
      "cell_type": "markdown",
      "metadata": {
        "deletable": false,
        "editable": false,
        "nbgrader": {
          "cell_type": "markdown",
          "checksum": "d29e3ac36b36a90062dc246e05901164",
          "grade": false,
          "grade_id": "cell-Instructions",
          "locked": true,
          "schema_version": 3,
          "solution": false,
          "task": false
        },
        "id": "JYJEMpLBSI-W"
      },
      "source": [
        "Follow the instructions in this template in order to complete the first part of your assessment. Please only modify cells where you are instructed to do so.\n",
        "Use the available cells to introduce the code. You can add additional cells if needed, without amending the template structure: don't remove, split, move existing cells.\n",
        "Failure to comply may result in unexpected errors that can lead to mark deductions. We load the Numpy and Matplotlib libraries. Please do not add any additional libraries if not instructed to do so. Save this Jupyter Notebook with the name **MTH786FinalProject.ipynb**. "
      ],
      "id": "JYJEMpLBSI-W"
    },
    {
      "cell_type": "code",
      "execution_count": null,
      "metadata": {
        "ExecuteTime": {
          "end_time": "2021-12-24T15:19:24.812670Z",
          "start_time": "2021-12-24T15:19:22.590046Z"
        },
        "deletable": false,
        "editable": false,
        "hideCode": false,
        "hidePrompt": false,
        "nbgrader": {
          "cell_type": "code",
          "checksum": "41a9de69bde502a38c9676288f044059",
          "grade": false,
          "grade_id": "cell-LibrariesImport",
          "locked": true,
          "schema_version": 3,
          "solution": false,
          "task": false
        },
        "id": "pCSSIJEZSI-X"
      },
      "outputs": [],
      "source": [
        "import numpy as np\n",
        "import matplotlib.pyplot as plt\n",
        "%matplotlib inline"
      ],
      "id": "pCSSIJEZSI-X"
    },
    {
      "cell_type": "markdown",
      "metadata": {
        "deletable": false,
        "editable": false,
        "heading_collapsed": true,
        "nbgrader": {
          "cell_type": "markdown",
          "checksum": "9657f8ed793e1ce6b946afeedac7b6be",
          "grade": false,
          "grade_id": "cell-Section1Info",
          "locked": true,
          "schema_version": 3,
          "solution": false,
          "task": false
        },
        "id": "K6pqOv90SI-X"
      },
      "source": [
        "## Problem 1: Spotify music classification\n",
        "\n",
        "\n",
        "For the first part of your final assessment you are required to implement the logistic regression model for binary classification problems as introduced in the lectures. Following up on what you have learned in the lectures and tutorials, complete the following tasks."
      ],
      "id": "K6pqOv90SI-X"
    },
    {
      "cell_type": "markdown",
      "metadata": {
        "deletable": false,
        "editable": false,
        "heading_collapsed": true,
        "hidden": true,
        "nbgrader": {
          "cell_type": "markdown",
          "checksum": "a942c7975d2e0401c5b037f695a2bf96",
          "grade": false,
          "grade_id": "cell-Q1ModelFunctionProblem",
          "locked": true,
          "schema_version": 3,
          "solution": false,
          "task": false
        },
        "id": "mMtDHAEbSI-Y"
      },
      "source": [
        "### Question 1a [7 marks]\n",
        "Write a function $\\mathtt{linear\\_model\\_function}$ that implements a linear model function for binary logistic regression defined as:\n",
        "$$\n",
        "f\\left(\\mathbf{x}, \\mathbf{w}\\right)\n",
        "= \\left\\langle \\phi\\left(\\mathbf{x}\\right),\\mathbf{w}\\right\\rangle,\n",
        "$$\n",
        "where $\\phi\\left(\\mathbf{x}\\right)$ is an augmented data vector and $\\mathbf{w}$ is a weight vector. Your function should take two arguments: \n",
        "- *data_matrix*: two-dimensional NumPy array containing augmented data row-vectors for corresponding data samples;\n",
        "- *weights*: weights column-vector.\n",
        "\n",
        "The function should output a column-vector of the model function values for corresponding data samples."
      ],
      "id": "mMtDHAEbSI-Y"
    },
    {
      "cell_type": "code",
      "execution_count": null,
      "metadata": {
        "ExecuteTime": {
          "end_time": "2021-12-24T15:19:24.828059Z",
          "start_time": "2021-12-24T15:19:24.818086Z"
        },
        "deletable": false,
        "hidden": true,
        "nbgrader": {
          "cell_type": "code",
          "checksum": "98afee07eb8f69e69cfaf436ddc3122b",
          "grade": false,
          "grade_id": "cell-Q1ModelFunctionSolution",
          "locked": false,
          "schema_version": 3,
          "solution": true,
          "task": false
        },
        "id": "kpVMEBcCSI-Z"
      },
      "outputs": [],
      "source": [
        "def linear_model_function(data_matrix, weights):\n",
        "    # YOUR CODE HERE\n",
        "    return data_matrix @ weights\n",
        "    raise NotImplementedError()"
      ],
      "id": "kpVMEBcCSI-Z"
    },
    {
      "cell_type": "markdown",
      "metadata": {
        "deletable": false,
        "editable": false,
        "hidden": true,
        "nbgrader": {
          "cell_type": "markdown",
          "checksum": "9b196f085323eaf02a939b5f81724b56",
          "grade": false,
          "grade_id": "cell-Q1ModelFunctionMarking",
          "locked": true,
          "schema_version": 3,
          "solution": false,
          "task": false
        },
        "id": "PHd-J7lVSI-Z"
      },
      "source": [
        "Test your function with the following unit tests. Passing each test will be awarded with **1 mark**. Please note that not all unit tests are visible to you."
      ],
      "id": "PHd-J7lVSI-Z"
    },
    {
      "cell_type": "code",
      "execution_count": null,
      "metadata": {
        "ExecuteTime": {
          "end_time": "2021-12-24T15:19:24.906416Z",
          "start_time": "2021-12-24T15:19:24.835042Z"
        },
        "deletable": false,
        "editable": false,
        "hidden": true,
        "nbgrader": {
          "cell_type": "code",
          "checksum": "c7ff09c4199e17e134e30b1b5efb9c79",
          "grade": true,
          "grade_id": "cell-Q1ModelFunctionTest1",
          "locked": true,
          "points": 1,
          "schema_version": 3,
          "solution": false,
          "task": false
        },
        "id": "donKcCxZSI-Z"
      },
      "outputs": [],
      "source": [
        "test_data_matrix = np.array([[1, -0.15771414, -0.75293918, -0.0130713],\\\n",
        "                             [1, -0.3521762, 0.19650084, 1.94050566],\\\n",
        "                             [1, 1.30917135,  1.69791787, -0.91502836]])\n",
        "test_weights = np.array([[0.46390948], [-1.15729779], [0.23372497],\n",
        "                         [-1.5223521]])\n",
        "test_model_function_values = np.array([[0.4903501], [-2.0367235], [0.7386495]])\n",
        "np.testing.assert_almost_equal(\n",
        "    linear_model_function(test_data_matrix, test_weights),\n",
        "    test_model_function_values)"
      ],
      "id": "donKcCxZSI-Z"
    },
    {
      "cell_type": "code",
      "execution_count": null,
      "metadata": {
        "ExecuteTime": {
          "end_time": "2021-12-24T15:19:24.922809Z",
          "start_time": "2021-12-24T15:19:24.911836Z"
        },
        "deletable": false,
        "editable": false,
        "hidden": true,
        "nbgrader": {
          "cell_type": "code",
          "checksum": "8af66ee612b31f5d5709a09e5646bf01",
          "grade": true,
          "grade_id": "cell-Q1ModelFunctionTest2",
          "locked": true,
          "points": 1,
          "schema_version": 3,
          "solution": false,
          "task": false
        },
        "id": "IULcTmjgSI-a"
      },
      "outputs": [],
      "source": [
        "#HIDDEN TEST\n"
      ],
      "id": "IULcTmjgSI-a"
    },
    {
      "cell_type": "markdown",
      "metadata": {
        "deletable": false,
        "editable": false,
        "hidden": true,
        "nbgrader": {
          "cell_type": "markdown",
          "checksum": "7e9b4e6f8fe8f5dc50b89b8219ba0836",
          "grade": false,
          "grade_id": "cell-Q1LogisticFunctionProblem",
          "locked": true,
          "schema_version": 3,
          "solution": false,
          "task": false
        },
        "id": "DoTTVK3mSI-a"
      },
      "source": [
        "For the next exercise, write a function $\\mathtt{binary\\_logistic\\_activation\\_function}$ that takes an argument named *inputs* and returns the output of the sigmoid function\n",
        "$$\n",
        "\\sigma\\left(\\mathbf{x}\\right) = \\frac{1}{1+\\mathrm{e}^{-\\mathbf{x}}}.\n",
        "$$ \n",
        "applied to the NumPy array *input*. Here $\\mathbf{x}$ is the mathematical notation for the argument *input*. The function should return NumPy array of the same shape as the *input*."
      ],
      "id": "DoTTVK3mSI-a"
    },
    {
      "cell_type": "code",
      "execution_count": null,
      "metadata": {
        "ExecuteTime": {
          "end_time": "2021-12-24T15:19:24.937768Z",
          "start_time": "2021-12-24T15:19:24.925800Z"
        },
        "deletable": false,
        "hidden": true,
        "nbgrader": {
          "cell_type": "code",
          "checksum": "00f570b53bc1c8848de3f31e844a8ab6",
          "grade": false,
          "grade_id": "cell-Q1LogisticFunctionSolution",
          "locked": false,
          "schema_version": 3,
          "solution": true,
          "task": false
        },
        "id": "udx0jpKbSI-b"
      },
      "outputs": [],
      "source": [
        "def binary_logistic_activation_function(inputs):\n",
        "    # YOUR CODE HERE\n",
        "    sigmoid = 1/(1+np.exp(-inputs))\n",
        "    return sigmoid\n",
        "    raise NotImplementedError()"
      ],
      "id": "udx0jpKbSI-b"
    },
    {
      "cell_type": "markdown",
      "metadata": {
        "deletable": false,
        "editable": false,
        "hidden": true,
        "nbgrader": {
          "cell_type": "markdown",
          "checksum": "1e280d4581807d532a7ff77f19689e48",
          "grade": false,
          "grade_id": "cell-Q1LogisticFunctionMarking",
          "locked": true,
          "schema_version": 3,
          "solution": false,
          "task": false
        },
        "id": "L_WI_q8YSI-b"
      },
      "source": [
        "Test your function with the following unit tests. Passing each test will be awarded with **1 mark**. Please note that not all unit tests are visible to you."
      ],
      "id": "L_WI_q8YSI-b"
    },
    {
      "cell_type": "code",
      "execution_count": null,
      "metadata": {
        "ExecuteTime": {
          "end_time": "2021-12-24T15:19:24.953725Z",
          "start_time": "2021-12-24T15:19:24.941757Z"
        },
        "deletable": false,
        "editable": false,
        "hidden": true,
        "nbgrader": {
          "cell_type": "code",
          "checksum": "23067a238f9da030308cf4897a32bf40",
          "grade": true,
          "grade_id": "cell-Q1LogisticFunctionTest1",
          "locked": true,
          "points": 1,
          "schema_version": 3,
          "solution": false,
          "task": false
        },
        "id": "JI8q2vfJSI-b"
      },
      "outputs": [],
      "source": [
        "test_row_inputs = np.array([0, 1, -3, np.log(2), 0.4223615])\n",
        "test_row_outputs = np.array([0.5, 0.7310586, 0.0474259, 0.6666667, 0.6040482])\n",
        "np.testing.assert_almost_equal(\n",
        "    binary_logistic_activation_function(test_row_inputs), test_row_outputs)"
      ],
      "id": "JI8q2vfJSI-b"
    },
    {
      "cell_type": "code",
      "execution_count": null,
      "metadata": {
        "ExecuteTime": {
          "end_time": "2021-12-24T15:19:24.984641Z",
          "start_time": "2021-12-24T15:19:24.963073Z"
        },
        "deletable": false,
        "editable": false,
        "hidden": true,
        "nbgrader": {
          "cell_type": "code",
          "checksum": "b0ecf46896ae90e041ca241d8b038cd6",
          "grade": true,
          "grade_id": "cell-Q1LogisticFunctionTest2",
          "locked": true,
          "points": 1,
          "schema_version": 3,
          "solution": false,
          "task": false
        },
        "id": "Ph9Zn1-4SI-c"
      },
      "outputs": [],
      "source": [
        "test_column_inputs = np.array([[-2], [0.5], [np.log(1 / 3)], [0.26478703]])\n",
        "test_column_outputs = np.array([[0.1192029], [0.6224593], [0.25], [0.5658127]])\n",
        "np.testing.assert_almost_equal(\n",
        "    binary_logistic_activation_function(test_column_inputs),\n",
        "    test_column_outputs)"
      ],
      "id": "Ph9Zn1-4SI-c"
    },
    {
      "cell_type": "code",
      "execution_count": null,
      "metadata": {
        "ExecuteTime": {
          "end_time": "2021-12-24T15:19:25.015632Z",
          "start_time": "2021-12-24T15:19:24.990626Z"
        },
        "deletable": false,
        "editable": false,
        "hidden": true,
        "nbgrader": {
          "cell_type": "code",
          "checksum": "d4fcf8606ac5c47ba974b7b77bc32759",
          "grade": true,
          "grade_id": "cell-Q1LogisticFunctionTest3",
          "locked": true,
          "points": 1,
          "schema_version": 3,
          "solution": false,
          "task": false
        },
        "id": "E0bkO_gDSI-c"
      },
      "outputs": [],
      "source": [
        "test_matrix_inputs = np.array([[2, np.log(1 / 2)], [0.26478703, np.sin(1)]])\n",
        "test_matrix_outputs = np.array([[0.8807971, 1 / 3], [0.5658127, 0.6987749]])\n",
        "np.testing.assert_almost_equal(\n",
        "    binary_logistic_activation_function(test_matrix_inputs),\n",
        "    test_matrix_outputs)"
      ],
      "id": "E0bkO_gDSI-c"
    },
    {
      "cell_type": "markdown",
      "metadata": {
        "deletable": false,
        "editable": false,
        "hidden": true,
        "nbgrader": {
          "cell_type": "markdown",
          "checksum": "c70a354027faa6afc7eb1863a7e7a24c",
          "grade": false,
          "grade_id": "cell-Q1PredictionFunctionProblem",
          "locked": true,
          "schema_version": 3,
          "solution": false,
          "task": false
        },
        "id": "6NShtd8TSI-c"
      },
      "source": [
        "Write two functions $\\mathtt{binary\\_logistic\\_prediction\\_function}$ and $\\mathtt{classification\\_accuracy}$ that turn your predictions into classification results and that compare how many labels have been classified correctly. The function $\\mathtt{binary\\_logistic\\_prediction\\_function}$ takes the argument *logistic_values* as inputs and returns a vector of class labels with binary values in $\\left\\{0, 1\\right\\}$ as its output. The function $\\mathtt{classification\\_accuracy}$ takes two inputs *true_labels* and *recovered_labels* and returns the percentage of\n",
        "correctly classified labels divided by $100$."
      ],
      "id": "6NShtd8TSI-c"
    },
    {
      "cell_type": "code",
      "execution_count": null,
      "metadata": {
        "ExecuteTime": {
          "end_time": "2021-12-24T15:19:25.031663Z",
          "start_time": "2021-12-24T15:19:25.019548Z"
        },
        "deletable": false,
        "hidden": true,
        "nbgrader": {
          "cell_type": "code",
          "checksum": "6bb4d4dff1d84b92ac594dd2309edca1",
          "grade": false,
          "grade_id": "cell-Q1PredictionFunctionSolution1",
          "locked": false,
          "schema_version": 3,
          "solution": true,
          "task": false
        },
        "id": "zRecBLPNSI-d"
      },
      "outputs": [],
      "source": [
        "def binary_logistic_prediction_function(logistic_values):\n",
        "    # YOUR CODE HERE\n",
        "    return logistic_values>1/2\n",
        "    raise NotImplementedError()"
      ],
      "id": "zRecBLPNSI-d"
    },
    {
      "cell_type": "markdown",
      "metadata": {
        "deletable": false,
        "editable": false,
        "hidden": true,
        "nbgrader": {
          "cell_type": "markdown",
          "checksum": "e95b1689cbb787692276b7238d17eff5",
          "grade": false,
          "grade_id": "cell-Q1PredictionFunctionMarking1",
          "locked": true,
          "schema_version": 3,
          "solution": false,
          "task": false
        },
        "id": "WlIQmDaFSI-d"
      },
      "source": [
        "Test your function with the following unit test. Passing the test will be awarded with **1 mark**."
      ],
      "id": "WlIQmDaFSI-d"
    },
    {
      "cell_type": "code",
      "execution_count": null,
      "metadata": {
        "ExecuteTime": {
          "end_time": "2021-12-24T15:19:25.109859Z",
          "start_time": "2021-12-24T15:19:25.037799Z"
        },
        "deletable": false,
        "editable": false,
        "hidden": true,
        "nbgrader": {
          "cell_type": "code",
          "checksum": "a5e876b2831dce889018f371c3cc4a59",
          "grade": true,
          "grade_id": "cell-Q1PredictionFunctionTest1",
          "locked": true,
          "points": 1,
          "schema_version": 3,
          "solution": false,
          "task": false
        },
        "id": "Cwcd4InCSI-e"
      },
      "outputs": [],
      "source": [
        "test_logistic_values = np.array([[0.30493025], [0.80419595], [0.56509748], [0.23903961],\\\n",
        "                                 [0.9773376],  [0.28956517], [0.83508464], [0.57761601],\\\n",
        "                                 [0.41169655], [0.97455507], [0.1095421],  [0.21852319]])\n",
        "test_class_labels = np.array([[0], [1], [1], [0],\\\n",
        "                              [1], [0], [1], [1],\\\n",
        "                              [0], [1], [0], [0]])\n",
        "np.testing.assert_array_almost_equal(\n",
        "    binary_logistic_prediction_function(test_logistic_values),\n",
        "    test_class_labels)"
      ],
      "id": "Cwcd4InCSI-e"
    },
    {
      "cell_type": "code",
      "execution_count": null,
      "metadata": {
        "ExecuteTime": {
          "end_time": "2021-12-24T15:19:25.141307Z",
          "start_time": "2021-12-24T15:19:25.121309Z"
        },
        "deletable": false,
        "hidden": true,
        "nbgrader": {
          "cell_type": "code",
          "checksum": "f563f653a24da27133b8bfdc396a4566",
          "grade": false,
          "grade_id": "cell-Q1PredictionFunctionSolution2",
          "locked": false,
          "schema_version": 3,
          "solution": true,
          "task": false
        },
        "id": "fmlcSaSNSI-e"
      },
      "outputs": [],
      "source": [
        "def classification_accuracy(true_labels, recovered_labels):\n",
        "    # YOUR CODE HERE\n",
        "    if true_labels.size != recovered_labels.size:\n",
        "        return False\n",
        "    num_correct = 0\n",
        "    for i in range(true_labels.size):\n",
        "        if true_labels[i] == recovered_labels[i]:\n",
        "            num_correct += 1\n",
        "    acc = num_correct/true_labels.size\n",
        "    return acc\n",
        "    raise NotImplementedError()"
      ],
      "id": "fmlcSaSNSI-e"
    },
    {
      "cell_type": "markdown",
      "metadata": {
        "deletable": false,
        "editable": false,
        "hidden": true,
        "nbgrader": {
          "cell_type": "markdown",
          "checksum": "ae3466d159264432c0f71a88eb5d07d6",
          "grade": false,
          "grade_id": "cell-Q1PredictionFunctionMarking2",
          "locked": true,
          "schema_version": 3,
          "solution": false,
          "task": false
        },
        "id": "iWJ-LKJlSI-e"
      },
      "source": [
        "Test your function with the following unit test. Passing the test will be awarded with **1 mark**."
      ],
      "id": "iWJ-LKJlSI-e"
    },
    {
      "cell_type": "code",
      "execution_count": null,
      "metadata": {
        "ExecuteTime": {
          "end_time": "2021-12-24T15:19:25.172168Z",
          "start_time": "2021-12-24T15:19:25.145241Z"
        },
        "deletable": false,
        "editable": false,
        "hidden": true,
        "nbgrader": {
          "cell_type": "code",
          "checksum": "aa141ed7b575117a637a044fa0beec28",
          "grade": true,
          "grade_id": "ell-Q1PredictionFunctionTest2",
          "locked": true,
          "points": 1,
          "schema_version": 3,
          "solution": false,
          "task": false
        },
        "id": "huEb_CKESI-e"
      },
      "outputs": [],
      "source": [
        "test_true_labels = np.array([[0], [1], [1], [0], [1], [1], [0], [0], [1], [0]])\n",
        "test_recovered_labels = np.array([[1], [1], [0], [0], [0], [1], [1], [0], [1],\n",
        "                                  [1]])\n",
        "np.testing.assert_almost_equal(\n",
        "    classification_accuracy(test_true_labels, test_recovered_labels), 0.5)"
      ],
      "id": "huEb_CKESI-e"
    },
    {
      "cell_type": "markdown",
      "metadata": {
        "editable": false,
        "heading_collapsed": true,
        "hidden": true,
        "nbgrader": {
          "cell_type": "markdown",
          "checksum": "e9178d457571a76ee1f138284d5d2c8f",
          "grade": false,
          "grade_id": "cell-Q1CostGradientFunctionProblem",
          "locked": true,
          "schema_version": 3,
          "solution": false,
          "task": false
        },
        "id": "gTWh6obWSI-f"
      },
      "source": [
        "### Question 1b [5 marks]\n",
        "Write two functions that implement the cost function for binary logistic regression as well as its gradient, as defined below. $$\n",
        "\\mathrm{L}\\left(\\mathbf{w}\\right) = \\frac{1}{s} \\left(\\sum\\limits_{i=1}^s\n",
        "\\log\\left[1+\\exp\\left(f\\left(\\mathbf{x}^{(i)},\\mathbf{w}\\right)\\right)\\right] - y_i\\cdot f\\left(\\mathbf{x}^{(i)},\\mathbf{w}\\right)\\right),\n",
        "$$\n",
        "where $\\phi\\left(\\mathbf{x}^{(i)}\\right)$ is an augmented $i$-th data vector and $f$ is a model function. In the case of linear model function $f\\left(\\mathbf{x},\\mathbf{w}\\right) = \\left\\langle \\phi\\left(\\mathbf{x}\\right),\\mathbf{w} \\right\\rangle$ one has \n",
        "$$\n",
        "\\nabla \\mathrm{L}\\left(\\mathbf{w}\\right) = \\frac{1}{s} \\left(\n",
        "\\sum\\limits_{i=1}^s \\phi\\left(\\mathbf{x}^{(i)}\\right)\\cdot\\sigma\n",
        "  \\left(\\left\\langle \\phi\\left(\\mathbf{x}^{(i)}\\right),\\mathbf{w} \\right\\rangle \\right) - y_i\\cdot \\phi\\left(\\mathbf{x}^{(i)}\\right)\n",
        "  \\right),\n",
        "$$\n",
        "where $y_i$ are the corresponding data labels. \n",
        "\n",
        "The cost function is should be called $\\mathtt{binary\\_logistic\\_regression\\_cost\\_function}$ and should take the NumPy arrays *data_matrix*, *data_labels* and\n",
        "*weights* as arguments. Subsequently, write a method $\\mathtt{binary\\_logistic\\_regression\\_gradient}$ that takes the same inputs as $\\mathtt{binary\\_logistic\\_regression\\_cost\\_function}$ and\n",
        "computes the gradient of the binary logistic regression cost function as defined in the lecture."
      ],
      "id": "gTWh6obWSI-f"
    },
    {
      "cell_type": "markdown",
      "metadata": {
        "deletable": false,
        "editable": false,
        "heading_collapsed": true,
        "hidden": true,
        "nbgrader": {
          "cell_type": "markdown",
          "checksum": "e9178d457571a76ee1f138284d5d2c8f",
          "grade": false,
          "grade_id": "cell-Q1CostGradientFunctionProblem",
          "locked": true,
          "schema_version": 3,
          "solution": false,
          "task": false
        },
        "id": "_0z_cW6rSI-f"
      },
      "source": [
        "### Question 1b [5 marks]\n",
        "Write two functions that implement the cost function for binary logistic regression as well as its gradient, as defined below. $$\n",
        "\\mathrm{L}\\left(\\mathbf{w}\\right) = \\frac{1}{s} \\left(\\sum\\limits_{i=1}^s\n",
        "\\log\\left[1+\\exp\\left(f\\left(\\mathbf{x}^{(i)},\\mathbf{w}\\right)\\right)\\right] - y_i\\cdot f\\left(\\mathbf{x}^{(i)},\\mathbf{w}\\right)\\right),\n",
        "$$\n",
        "where $\\phi\\left(\\mathbf{x}^{(i)}\\right)$ is an augmented $i$-th data vector and $f$ is a model function. In the case of linear model function $f\\left(\\mathbf{x},\\mathbf{w}\\right) = \\left\\langle \\phi\\left(\\mathbf{x}\\right),\\mathbf{w} \\right\\rangle$ one has \n",
        "$$\n",
        "\\nabla \\mathrm{L}\\left(\\mathbf{w}\\right) = \\frac{1}{s} \\left(\n",
        "\\sum\\limits_{i=1}^s \\phi\\left(\\mathbf{x}^{(i)}\\right)\\cdot\\sigma\n",
        "  \\left(\\left\\langle \\phi\\left(\\mathbf{x}^{(i)}\\right),\\mathbf{w} \\right\\rangle \\right) - y_i\\cdot \\phi\\left(\\mathbf{x}^{(i)}\\right)\n",
        "  \\right),\n",
        "$$\n",
        "where $y_i$ are the corresponding data labels. \n",
        "\n",
        "The cost function is should be called $\\mathtt{binary\\_logistic\\_regression\\_cost\\_function}$ and should take the NumPy arrays *data_matrix*, *data_labels* and\n",
        "*weights* as arguments. Subsequently, write a method $\\mathtt{binary\\_logistic\\_regression\\_gradient}$ that takes the same inputs as $\\mathtt{binary\\_logistic\\_regression\\_cost\\_function}$ and\n",
        "computes the gradient of the binary logistic regression cost function as defined in the lecture."
      ],
      "id": "_0z_cW6rSI-f"
    },
    {
      "cell_type": "code",
      "execution_count": null,
      "metadata": {
        "ExecuteTime": {
          "end_time": "2021-12-24T15:19:25.186956Z",
          "start_time": "2021-12-24T15:19:25.176158Z"
        },
        "deletable": false,
        "hidden": true,
        "nbgrader": {
          "cell_type": "code",
          "checksum": "530b2423dd1e9ad90002efdc9776b1a5",
          "grade": false,
          "grade_id": "cell-Q1CostGradientFunctionSolution1",
          "locked": false,
          "schema_version": 3,
          "solution": true,
          "task": false
        },
        "id": "VeyYnHlVSI-f"
      },
      "outputs": [],
      "source": [
        "def binary_logistic_regression_cost_function(data_matrix, data_labels,\n",
        "                                             weights):\n",
        "    # YOUR CODE HERE\n",
        "    f = np.dot(data_matrix, weights)\n",
        "    loss = np.log(1+np.exp(f))-np.multiply(data_labels, f)\n",
        "    loss = np.mean(loss)\n",
        "    return loss\n",
        "    raise NotImplementedError()"
      ],
      "id": "VeyYnHlVSI-f"
    },
    {
      "cell_type": "code",
      "execution_count": null,
      "metadata": {
        "ExecuteTime": {
          "end_time": "2021-12-24T15:19:25.202140Z",
          "start_time": "2021-12-24T15:19:25.191118Z"
        },
        "deletable": false,
        "hidden": true,
        "nbgrader": {
          "cell_type": "code",
          "checksum": "7d89be4416236f66653705bdc0216cc7",
          "grade": false,
          "grade_id": "cell-Q1CostGradientFunctionSolution2",
          "locked": false,
          "schema_version": 3,
          "solution": true,
          "task": false
        },
        "id": "4DIyAPsPSI-g"
      },
      "outputs": [],
      "source": [
        "def binary_logistic_regression_gradient(data_matrix, data_labels, weights):\n",
        "    # YOUR CODE HERE\n",
        "    grad = np.zeros(weights.T.shape)\n",
        "    for i in range(data_matrix.shape[0]):\n",
        "        data = data_matrix[i,:]\n",
        "        sigmoid = 1/(1+np.exp(-np.dot(data,weights)))\n",
        "        grad += np.multiply(data,(sigmoid-data_labels[i]))\n",
        "        \n",
        "    grad = grad/data_matrix.shape[0]\n",
        "    return np.transpose(grad)\n",
        "    raise NotImplementedError()"
      ],
      "id": "4DIyAPsPSI-g"
    },
    {
      "cell_type": "markdown",
      "metadata": {
        "deletable": false,
        "editable": false,
        "hidden": true,
        "nbgrader": {
          "cell_type": "markdown",
          "checksum": "bcb30afcd055246727d67c33f4d0c10c",
          "grade": false,
          "grade_id": "cell-Q1CostGradientFunctionMarking",
          "locked": true,
          "schema_version": 3,
          "solution": false,
          "task": false
        },
        "id": "8-C7UEOzSI-g"
      },
      "source": [
        "Test your functions with the following unit tests. Passing each test will be awarded with **1 mark**."
      ],
      "id": "8-C7UEOzSI-g"
    },
    {
      "cell_type": "code",
      "execution_count": null,
      "metadata": {
        "ExecuteTime": {
          "end_time": "2021-12-24T15:19:25.232008Z",
          "start_time": "2021-12-24T15:19:25.205081Z"
        },
        "deletable": false,
        "editable": false,
        "hidden": true,
        "nbgrader": {
          "cell_type": "code",
          "checksum": "2f5698c080c932ee8183b78ad151aae6",
          "grade": true,
          "grade_id": "cell-Q1CostGradientFunctionTest1",
          "locked": true,
          "points": 1,
          "schema_version": 3,
          "solution": false,
          "task": false
        },
        "id": "OqxFmPXWSI-g"
      },
      "outputs": [],
      "source": [
        "test_data_matrix = np.array([[1, -0.12793802, -0.19751682, 0.15226261], [1, -0.2000033, 0.52618148, 0.8782188],\\\n",
        "                             [1, -0.8613664, 0.30565866, -0.49296481], [1, -0.84047233, 0.9252299, 0.99071071],\\\n",
        "                             [1, -0.1042736, 0.52956168, -0.47798761], [1, 0.11284415, -0.94223132, 0.65812316],\\\n",
        "                             [1, -0.24878785, 0.85320211, -0.20377839], [1, 0.86694977, -0.55784702, 0.39560232],\\\n",
        "                             [1, 0.63581885, -0.11724269, -0.0979702], [1, 0.92166492, 0.76064856, 0.20755241]])\n",
        "test_data_labels = np.array([[0], [1], [1], [1], [0], [1], [0], [0], [1], [0]])\n",
        "test_weights = np.array([[-0.10541393], [0.57801403], [0.67163957],\n",
        "                         [-0.34652194]])\n",
        "np.testing.assert_array_almost_equal(\n",
        "    binary_logistic_regression_cost_function(data_matrix=test_data_matrix,\n",
        "                                             data_labels=test_data_labels,\n",
        "                                             weights=test_weights), 0.846796)"
      ],
      "id": "OqxFmPXWSI-g"
    },
    {
      "cell_type": "code",
      "execution_count": null,
      "metadata": {
        "ExecuteTime": {
          "end_time": "2021-12-24T15:19:25.262150Z",
          "start_time": "2021-12-24T15:19:25.235002Z"
        },
        "deletable": false,
        "editable": false,
        "hidden": true,
        "nbgrader": {
          "cell_type": "code",
          "checksum": "420ac9d6a1de0a0afa5e34744635db47",
          "grade": true,
          "grade_id": "cell-Q1CostGradientFunctionTest2",
          "locked": true,
          "points": 1,
          "schema_version": 3,
          "solution": false,
          "task": false
        },
        "id": "UU3iiE1ESI-h"
      },
      "outputs": [],
      "source": [
        "test_data_matrix = np.array([[1, -0.12793802, -0.19751682, 0.15226261], [1, -0.2000033, 0.52618148, 0.8782188],\\\n",
        "                             [1, -0.8613664, 0.30565866, -0.49296481], [1, -0.84047233, 0.9252299, 0.99071071],\\\n",
        "                             [1, -0.1042736, 0.52956168, -0.47798761], [1, 0.11284415, -0.94223132, 0.65812316],\\\n",
        "                             [1, -0.24878785, 0.85320211, -0.20377839], [1, 0.86694977, -0.55784702, 0.39560232],\\\n",
        "                             [1, 0.63581885, -0.11724269, -0.0979702], [1, 0.92166492, 0.76064856, 0.20755241]])\n",
        "test_data_labels = np.array([[0], [1], [1], [1], [0], [1], [0], [0], [1], [0]])\n",
        "test_gradient = np.array([[-0.006401], [0.150453], [0.074496], [-0.120697]])\n",
        "test_weights = np.array([[-0.10541393], [0.57801403], [0.67163957],\n",
        "                         [-0.34652194]])\n",
        "np.testing.assert_array_almost_equal(\n",
        "    binary_logistic_regression_gradient(data_matrix=test_data_matrix,\n",
        "                                        data_labels=test_data_labels,\n",
        "                                        weights=test_weights), test_gradient)"
      ],
      "id": "UU3iiE1ESI-h"
    },
    {
      "cell_type": "markdown",
      "metadata": {
        "deletable": false,
        "editable": false,
        "hidden": true,
        "nbgrader": {
          "cell_type": "markdown",
          "checksum": "d3eeec69714f539e4143b7385aaa3536",
          "grade": false,
          "grade_id": "cell-Q1GradientDescentFunctionProblem",
          "locked": true,
          "schema_version": 3,
          "solution": false,
          "task": false
        },
        "id": "iaRhr4uiSI-i"
      },
      "source": [
        "After writing Python functions for the binary logistic regression cost function and its gradient, fill in the following notebook functions for the implementation of a gradient descent method. For the\n",
        "first function it is acceptable to follow the solution presented in the class assignments, or to use your own version if is consistent with function header and output. For the second gradient descent function named $\\mathtt{gradient\\_descent\\_v2}$, modify the gradient descent method to include a stopping criterion that ensures that gradient descent stops once\n",
        "$$\n",
        "\\left\\| \\nabla L\\left(\\mathbf{w}^{(k)}\\right)\\right\\|_2 \\leq \\mathrm{tolerance},\n",
        "$$\n",
        "is satisfied. Here $L$ and $\\mathbf{w}^{(k)}$ are the mathematical representations of the objective $\\mathrm{objective}$ and the weight vector *weights*, at iteration *k*. The parameter *tolerance* is a non-negative threshold\n",
        "that controls the Euclidean norm of the gradient. The function $\\mathtt{gradient\\_descent\\_v2}$ takes the arguments $\\mathtt{objective}$, $\\mathtt{gradient}$, *initial_weights*, *step_size*, *no_of_iterations*, *print_output* and\n",
        "*tolerance*. The arguments $\\mathtt{objective}$ and $\\mathtt{gradient}$ are functions that can take (weight-)arrays as arguments and return the scalar value of the objective, respectively the array representation of the corresponding gradient. The argument *initial_weights* specifies the initial value of the variable over which you iterate. The argument *step_size* is the gradient descent step-size parameter, the argument *no_of_iterations* specifies the maximum number of iterations, *print_output* determines after how many iterations the function produces a text output and *tolerance* controls the norm of the gradient as described in the equation above. Both functions should return the last value of iteration variable (*weights*) together with the values of objective function evaluated at every iteration step."
      ],
      "id": "iaRhr4uiSI-i"
    },
    {
      "cell_type": "code",
      "execution_count": null,
      "metadata": {
        "ExecuteTime": {
          "end_time": "2021-12-24T15:19:25.295340Z",
          "start_time": "2021-12-24T15:19:25.266917Z"
        },
        "deletable": false,
        "hidden": true,
        "nbgrader": {
          "cell_type": "code",
          "checksum": "d1be5a129d273aeeb78f66c1f22f0ca4",
          "grade": false,
          "grade_id": "cell-Q1GradientDescentFunctionSolution1",
          "locked": false,
          "schema_version": 3,
          "solution": true,
          "task": false
        },
        "id": "sErcbAGlSI-i"
      },
      "outputs": [],
      "source": [
        "def gradient_descent(objective,\n",
        "                     gradient,\n",
        "                     initial_weights,\n",
        "                     step_size=1,\n",
        "                     no_of_iterations=100,\n",
        "                     print_output=10):\n",
        "    # YOUR CODE HERE\n",
        "    weight = initial_weights\n",
        "    i = 0\n",
        "    costs = []\n",
        "    while True:\n",
        "        weight = weight - np.dot(step_size,gradient(weight))\n",
        "        costs.append(objective(weight))\n",
        "        if i%print_output == 0:\n",
        "            print('The objective function is: ', objective(weight))\n",
        "        i += 1 \n",
        "        if i>no_of_iterations:\n",
        "            break\n",
        "    return weight,costs\n",
        "    raise NotImplementedError()"
      ],
      "id": "sErcbAGlSI-i"
    },
    {
      "cell_type": "code",
      "execution_count": null,
      "metadata": {
        "ExecuteTime": {
          "end_time": "2021-12-24T15:19:25.323766Z",
          "start_time": "2021-12-24T15:19:25.299143Z"
        },
        "deletable": false,
        "hidden": true,
        "nbgrader": {
          "cell_type": "code",
          "checksum": "08e2c815a5810d591104250a5bda6e18",
          "grade": false,
          "grade_id": "cell-Q1GradientDescentFunctionSolution2",
          "locked": false,
          "schema_version": 3,
          "solution": true,
          "task": false
        },
        "id": "n_QuOUjWSI-i"
      },
      "outputs": [],
      "source": [
        "def gradient_descent_v2(objective, gradient, initial_weights, \\\n",
        "                        step_size=1, no_of_iterations=100, print_output=10, tolerance=1e-6):\n",
        "    # YOUR CODE HERE\n",
        "    weight = initial_weights\n",
        "    i = 0\n",
        "    costs = []\n",
        "    costs.append(objective(weight))\n",
        "    while True:\n",
        "        weight = weight - np.dot(step_size,gradient(weight))\n",
        "        costs.append(objective(weight))\n",
        "        if i%print_output == 0:\n",
        "            print('The objective function is: ', objective(weight))\n",
        "        if i>no_of_iterations or np.linalg.norm(gradient(weight))<tolerance:\n",
        "            break\n",
        "        else:\n",
        "            i +=1\n",
        "#     print(weight)\n",
        "    return weight,costs\n",
        "    raise NotImplementedError()"
      ],
      "id": "n_QuOUjWSI-i"
    },
    {
      "cell_type": "code",
      "execution_count": null,
      "metadata": {
        "ExecuteTime": {
          "end_time": "2021-12-24T15:19:25.355681Z",
          "start_time": "2021-12-24T15:19:25.328749Z"
        },
        "deletable": false,
        "editable": false,
        "hidden": true,
        "nbgrader": {
          "cell_type": "code",
          "checksum": "50ca1f06315677e42c9c28b44f7f8991",
          "grade": true,
          "grade_id": "cell-Q1GradientDescentFunctionTest1",
          "locked": true,
          "points": 1,
          "schema_version": 3,
          "solution": false,
          "task": false
        },
        "id": "xuBWRC8-SI-j",
        "outputId": "db7ac9b9-fe93-4434-eef1-391074a98472"
      },
      "outputs": [
        {
          "name": "stdout",
          "output_type": "stream",
          "text": [
            "The objective function is:  -2.9328529573465416\n",
            "The objective function is:  -3.025632392529566\n",
            "The objective function is:  -3.0256410215452108\n",
            "The objective function is:  -3.025641025639083\n",
            "The objective function is:  -3.0256410256410247\n",
            "The objective function is:  -3.0256410256410255\n",
            "The objective function is:  -3.0256410256410255\n",
            "The objective function is:  -3.0256410256410255\n",
            "The objective function is:  -3.025641025641026\n",
            "The objective function is:  -3.0256410256410255\n",
            "The objective function is:  -3.0256410256410255\n"
          ]
        }
      ],
      "source": [
        "test_matrix_m = np.array([[3, 1], [2, 4]])\n",
        "test_vector_v = np.array([5, 6])\n",
        "test_objective = lambda x: x.T @ (test_matrix_m @ x) + x @ test_vector_v\n",
        "test_gradient = lambda x: (test_matrix_m + test_matrix_m.T) @ x + test_vector_v\n",
        "test_initial_weights = np.array([0.0, 0.0])\n",
        "test_step_size = 0.9 / (np.linalg.norm(test_matrix_m + test_matrix_m.T))\n",
        "test_no_of_iterations = 100\n",
        "test_print_output = 10\n",
        "np.testing.assert_array_almost_equal(gradient_descent(test_objective, test_gradient, \\\n",
        "                                           test_initial_weights,test_step_size, \\\n",
        "                                           test_no_of_iterations, test_print_output)[0],\\\n",
        "                          np.array([-0.564103, -0.538462]))"
      ],
      "id": "xuBWRC8-SI-j"
    },
    {
      "cell_type": "code",
      "execution_count": null,
      "metadata": {
        "ExecuteTime": {
          "end_time": "2021-12-24T15:19:25.386254Z",
          "start_time": "2021-12-24T15:19:25.363660Z"
        },
        "deletable": false,
        "editable": false,
        "hidden": true,
        "nbgrader": {
          "cell_type": "code",
          "checksum": "474422bddaa5588e1c15cb73b8890a0b",
          "grade": true,
          "grade_id": "cell-Q1GradientDescentFunctionTest",
          "locked": true,
          "points": 2,
          "schema_version": 3,
          "solution": false,
          "task": false
        },
        "id": "zqt9b1avSI-j",
        "outputId": "c76f09f2-2fa1-4cd1-93db-a5e299d965fb"
      },
      "outputs": [
        {
          "name": "stdout",
          "output_type": "stream",
          "text": [
            "The objective function is:  -2.9328529573465416\n",
            "The objective function is:  -3.025632392529566\n",
            "The objective function is:  -3.0256410215452108\n",
            "The objective function is:  -3.025641025639083\n"
          ]
        }
      ],
      "source": [
        "test_matrix_m = np.array([[3, 1], [2, 4]])\n",
        "test_vector_v = np.array([5, 6])\n",
        "test_objective = lambda x: x.T @ (test_matrix_m @ x) + x @ test_vector_v\n",
        "test_gradient = lambda x: (test_matrix_m + test_matrix_m.T) @ x + test_vector_v\n",
        "test_initial_weights = np.array([0.0, 0.0])\n",
        "test_step_size = 0.9 / (np.linalg.norm(test_matrix_m + test_matrix_m.T))\n",
        "test_no_of_iterations = 100\n",
        "test_print_output = 10\n",
        "np.testing.assert_array_almost_equal(len(gradient_descent_v2(test_objective, test_gradient, \\\n",
        "                                           test_initial_weights,test_step_size, \\\n",
        "                                           test_no_of_iterations, test_print_output)[1])-1,\\\n",
        "                          35) ### the iteration should stop after 35 steps"
      ],
      "id": "zqt9b1avSI-j"
    },
    {
      "cell_type": "markdown",
      "metadata": {
        "deletable": false,
        "editable": false,
        "heading_collapsed": true,
        "hidden": true,
        "nbgrader": {
          "cell_type": "markdown",
          "checksum": "d5ec8cd578f597bce6ebf23f686d3cf2",
          "grade": false,
          "grade_id": "cell-Q1DataAnalysisProblem",
          "locked": true,
          "schema_version": 3,
          "solution": false,
          "task": false
        },
        "id": "f4SlvZt4SI-k"
      },
      "source": [
        "### Question 1c [7 marks]\n",
        "We proceed by testing your implementation on the [Spotify(c)](https://www.spotify.com/) music dataset. You are asked to analyse the data collected by Brice Vergnou on [Kaggle](https://www.kaggle.com/bricevergnou/spotify-recommendation). Please take a look at the corresponding webpage in case you want to know more about the data. The dataset consists of $150$ songs (randomly selected from $195$ available on [Kaggle](https://www.kaggle.com/bricevergnou/spotify-recommendation)). The testing set consists of the rest $45$ songs. Each song is characterised by $13$ numbers representing\n",
        "- $\\mathtt{acousticness}$ : A confidence measure from $0.0$ to $1.0$ of whether the track is acoustic. $1.0$ represents high confidence the track is acoustic.\n",
        "- $\\mathtt{danceability}$ : Danceability describes how suitable a track is for dancing based on a combination of musical elements including tempo, rhythm stability, beat strength, and overall regularity. A value of $0.0$ is least danceable and $1.0$ is most danceable.\n",
        "- $\\mathtt{duration\\_ms}$ : The duration of the track in milliseconds.\n",
        "- $\\mathtt{energy}$ : Energy is a measure from $0.0$ to $1.0$ and represents a perceptual measure of intensity and activity. Typically, energetic tracks feel fast, loud, and noisy. For example, death metal has high energy, while a Bach prelude scores low on the scale. Perceptual features contributing to this attribute include dynamic range, perceived loudness, timbre, onset rate, and general entropy.\n",
        "- $\\mathtt{instrumentalness}$ : Predicts whether a track contains no vocals. \"Ooh\" and \"aah\" sounds are treated as instrumental in this context. Rap or spoken word tracks are clearly \"vocal\". The closer the instrumentalness value is to $1.0$, the greater likelihood the track contains no vocal content. Values above $0.5$ are intended to represent instrumental tracks, but confidence is higher as the value approaches $1.0$.\n",
        "- $\\mathtt{key}$ : The key the track is in. Integers map to pitches using standard Pitch Class notation . E.g. $0 = C$, $1 = C\\sharp/D\\flat$, $2 = D$, and so on.\n",
        "- $\\mathtt{liveness}$ : Detects the presence of an audience in the recording. Higher liveness values represent an increased probability that the track was performed live. A value above $0.8$ provides strong likelihood that the track is live.\n",
        "- $\\mathtt{loudness}$ : The overall loudness of a track in decibels (dB). Loudness values are averaged across the entire track and are useful for comparing relative loudness of tracks. Loudness is the quality of a sound that is the primary psychological correlate of physical strength (amplitude). Values typical range between $-60$ and $0$ db.\n",
        "- $\\mathtt{mode}$ : Mode indicates the modality (major or minor) of a track, the type of scale from which its melodic content is derived. Major is represented by $1$ and minor is $0$.\n",
        "- $\\mathtt{speechiness}$ : Speechiness detects the presence of spoken words in a track. The more exclusively speech-like the recording (e.g. talk show, audio book, poetry), the closer to $1.0$ the attribute value. Values above $0.66$ describe tracks that are probably made entirely of spoken words. Values between $0.33$ and $0.66$ describe tracks that may contain both music and speech, either in sections or layered, including such cases as rap music. Values below $0.33$ most likely represent music and other non-speech-like tracks.\n",
        "- $\\mathtt{tempo}$ : The overall estimated tempo of a track in beats per minute (BPM). In musical terminology, tempo is the speed or pace of a given piece and derives directly from the average beat duration.\n",
        "- $\\mathtt{time\\_signature}$ : An estimated overall time signature of a track. The time signature (meter) is a notational convention to specify how many beats are in each bar (or measure).\n",
        "- $\\mathtt{valence}$ : A measure from $0.0$ to $1.0$ describing the musical positiveness conveyed by a track. Tracks with high valence sound more positive (e.g. happy, cheerful, euphoric), while tracks with low valence sound more negative (e.g. sad, depressed, angry).\n",
        "\n",
        "Every song included in the training set is also assigned with the binary ($0$ or $1$) variable that provides an information on the dataset author's music preferences. \n",
        "\n",
        "The code in the following cell \n",
        "- loads and stores the training and testing dataset into corresponding NumPy arrays: *spotify_training_data_input*, *spotify_training_data_labels*, *spotify_testing_data_input*."
      ],
      "id": "f4SlvZt4SI-k"
    },
    {
      "cell_type": "code",
      "execution_count": null,
      "metadata": {
        "ExecuteTime": {
          "end_time": "2021-12-24T15:19:25.417636Z",
          "start_time": "2021-12-24T15:19:25.392625Z"
        },
        "editable": false,
        "hidden": true,
        "nbgrader": {
          "cell_type": "code",
          "checksum": "4525e8a90a10f6704667865bb67b2a63",
          "grade": false,
          "grade_id": "cell-Q1DataAnalysisSolution0",
          "locked": true,
          "schema_version": 3,
          "solution": false,
          "task": false
        },
        "id": "Tumb54XOSI-k"
      },
      "outputs": [],
      "source": [
        "spotify_training_data = np.genfromtxt('spotify_training.csv',\n",
        "                                      skip_header=True,\n",
        "                                      dtype=None,\n",
        "                                      delimiter=',')\n",
        "spotify_testing_data_input = np.genfromtxt('spotify_testing.csv',\n",
        "                                           skip_header=True,\n",
        "                                           dtype=None,\n",
        "                                           delimiter=',')\n",
        "spotify_training_data_input = spotify_training_data[:, :-1]\n",
        "spotify_training_data_labels = spotify_training_data[:, -1].reshape(-1, 1)"
      ],
      "id": "Tumb54XOSI-k"
    },
    {
      "cell_type": "code",
      "execution_count": null,
      "metadata": {
        "ExecuteTime": {
          "end_time": "2021-12-24T15:19:25.417636Z",
          "start_time": "2021-12-24T15:19:25.392625Z"
        },
        "deletable": false,
        "editable": false,
        "hidden": true,
        "nbgrader": {
          "cell_type": "code",
          "checksum": "4525e8a90a10f6704667865bb67b2a63",
          "grade": false,
          "grade_id": "cell-Q1DataAnalysisSolution0",
          "locked": true,
          "schema_version": 3,
          "solution": false,
          "task": false
        },
        "id": "Zuv-CMf4SI-l"
      },
      "outputs": [],
      "source": [
        "spotify_training_data = np.genfromtxt('spotify_training.csv',\n",
        "                                      skip_header=True,\n",
        "                                      dtype=None,\n",
        "                                      delimiter=',')\n",
        "spotify_testing_data_input = np.genfromtxt('spotify_testing.csv',\n",
        "                                           skip_header=True,\n",
        "                                           dtype=None,\n",
        "                                           delimiter=',')\n",
        "spotify_training_data_input = spotify_training_data[:, :-1]\n",
        "spotify_training_data_labels = spotify_training_data[:, -1].reshape(-1, 1)"
      ],
      "id": "Zuv-CMf4SI-l"
    },
    {
      "cell_type": "markdown",
      "metadata": {
        "deletable": false,
        "editable": false,
        "hidden": true,
        "nbgrader": {
          "cell_type": "markdown",
          "checksum": "f35757c50a843be68a5c76fda8d4f4ce",
          "grade": false,
          "grade_id": "cell-Q1DataStandardisation",
          "locked": true,
          "schema_version": 3,
          "solution": false,
          "task": false
        },
        "id": "Bpi-mMwJSI-m"
      },
      "source": [
        "In the following cell, write a function $\\mathtt{standardise}$ that standardises the columns of a two-dimensional NumPy array *data_matrix*. The function should return a triple: the normalised matrix, the row of column averages and the row of column standard deviations."
      ],
      "id": "Bpi-mMwJSI-m"
    },
    {
      "cell_type": "code",
      "execution_count": null,
      "metadata": {
        "ExecuteTime": {
          "end_time": "2021-12-24T15:19:25.509825Z",
          "start_time": "2021-12-24T15:19:25.501828Z"
        },
        "deletable": false,
        "hidden": true,
        "nbgrader": {
          "cell_type": "code",
          "checksum": "2709ddd7bb9c57ec0c911968ea57afcd",
          "grade": false,
          "grade_id": "cell-Q1DataAnalysisSolution1",
          "locked": false,
          "schema_version": 3,
          "solution": true,
          "task": false
        },
        "id": "QEHrrgcxSI-m"
      },
      "outputs": [],
      "source": [
        "def standardise(data_matrix):\n",
        "    # YOUR CODE HERE\n",
        "    mean =  np.mean(data_matrix, axis=0)\n",
        "    std = np.sqrt(np.mean(np.power(data_matrix-mean,2), axis=0))\n",
        "    \n",
        "    standrise = (data_matrix-mean)/std\n",
        "    return standrise, mean, std\n",
        "    raise NotImplementedError()"
      ],
      "id": "QEHrrgcxSI-m"
    },
    {
      "cell_type": "markdown",
      "metadata": {
        "deletable": false,
        "editable": false,
        "hidden": true,
        "nbgrader": {
          "cell_type": "markdown",
          "checksum": "d169a3186bee592e74362f0e80e22115",
          "grade": false,
          "grade_id": "cell-Q1DataAnalysisMarking1",
          "locked": true,
          "schema_version": 3,
          "solution": false,
          "task": false
        },
        "id": "A35o5_pfSI-n"
      },
      "source": [
        "Test your function with the following unit test. Passing the test will be awarded with **1 mark**."
      ],
      "id": "A35o5_pfSI-n"
    },
    {
      "cell_type": "code",
      "execution_count": null,
      "metadata": {
        "ExecuteTime": {
          "end_time": "2021-12-24T15:19:25.663155Z",
          "start_time": "2021-12-24T15:19:25.648196Z"
        },
        "deletable": false,
        "editable": false,
        "hidden": true,
        "nbgrader": {
          "cell_type": "code",
          "checksum": "c10eb026cde7f39553fec65f893c9512",
          "grade": true,
          "grade_id": "cell-Q1DataAnalysisTest1",
          "locked": true,
          "points": 1,
          "schema_version": 3,
          "solution": false,
          "task": false
        },
        "id": "ci24h2efSI-n"
      },
      "outputs": [],
      "source": [
        "test_data_matrix = np.array([[1, 2], [3, 4], [5, 6]])\n",
        "np.testing.assert_array_almost_equal(\n",
        "    standardise(test_data_matrix)[0],\n",
        "    np.array([[-1.22474487, -1.22474487], [0, 0], [1.22474487, 1.22474487]]))\n",
        "np.testing.assert_array_almost_equal(\n",
        "    standardise(test_data_matrix)[1], np.array([3, 4]))\n",
        "np.testing.assert_array_almost_equal(\n",
        "    standardise(test_data_matrix)[2],\n",
        "    np.array([np.sqrt(8 / 3), np.sqrt(8 / 3)]))"
      ],
      "id": "ci24h2efSI-n"
    },
    {
      "cell_type": "markdown",
      "metadata": {
        "deletable": false,
        "editable": false,
        "hidden": true,
        "nbgrader": {
          "cell_type": "markdown",
          "checksum": "55468778bf0ca5c8ea6f811b62d5eeaf",
          "grade": false,
          "grade_id": "cell-Q1DataDeStandardisation",
          "locked": true,
          "schema_version": 3,
          "solution": false,
          "task": false
        },
        "id": "0fowd0xoSI-n"
      },
      "source": [
        "Now write a function $\\mathtt{de\\_standardise}$ that de-standardises the columns of a two-dimensional NumPy array *data_matrix*. The function should take three NumPy array: *standardised_matrix*, *row_of_means*, *row_of_stds* and reconstruct the original matrix used  to obtain a standardised one."
      ],
      "id": "0fowd0xoSI-n"
    },
    {
      "cell_type": "code",
      "execution_count": null,
      "metadata": {
        "ExecuteTime": {
          "end_time": "2021-12-24T15:19:25.801823Z",
          "start_time": "2021-12-24T15:19:25.790814Z"
        },
        "deletable": false,
        "hidden": true,
        "nbgrader": {
          "cell_type": "code",
          "checksum": "a89ced62e412e4820b2424a1d6166165",
          "grade": false,
          "grade_id": "cell-Q1DataAnalysisSolution2",
          "locked": false,
          "schema_version": 3,
          "solution": true,
          "task": false
        },
        "id": "CgpkelArSI-n"
      },
      "outputs": [],
      "source": [
        "def de_standardise(standardised_matrix, row_of_means, row_of_stds):\n",
        "    # YOUR CODE HERE\n",
        "    origin = np.multiply(standardised_matrix,row_of_stds)\n",
        "    origin = origin+row_of_means\n",
        "    return origin\n",
        "    raise NotImplementedError()"
      ],
      "id": "CgpkelArSI-n"
    },
    {
      "cell_type": "markdown",
      "metadata": {
        "deletable": false,
        "editable": false,
        "hidden": true,
        "nbgrader": {
          "cell_type": "markdown",
          "checksum": "a4249b93bb7a5a4bae14dc91e32c7911",
          "grade": false,
          "grade_id": "cell-Q1DataAnalysisMarking2",
          "locked": true,
          "schema_version": 3,
          "solution": false,
          "task": false
        },
        "id": "UojaFLTjSI-n"
      },
      "source": [
        "Test your function with the following unit test. Passing the test will be awarded with **1 mark**."
      ],
      "id": "UojaFLTjSI-n"
    },
    {
      "cell_type": "code",
      "execution_count": null,
      "metadata": {
        "ExecuteTime": {
          "end_time": "2021-12-24T15:19:25.957443Z",
          "start_time": "2021-12-24T15:19:25.937423Z"
        },
        "deletable": false,
        "editable": false,
        "hidden": true,
        "nbgrader": {
          "cell_type": "code",
          "checksum": "c9853c4073d493f20531586d648c9c4a",
          "grade": true,
          "grade_id": "cell-Q1DataAnalysisTest2",
          "locked": true,
          "points": 1,
          "schema_version": 3,
          "solution": false,
          "task": false
        },
        "id": "jQig7lqASI-o"
      },
      "outputs": [],
      "source": [
        "test_standardised_matrix = np.array([[-1.22474487, -1.22474487], [0, 0],\n",
        "                                     [1.22474487, 1.22474487]])\n",
        "test_row_of_means = np.array([3, 4])\n",
        "test_row_of_stds = np.array([np.sqrt(8 / 3), np.sqrt(8 / 3)])\n",
        "np.testing.assert_array_almost_equal(\n",
        "    de_standardise(test_standardised_matrix, test_row_of_means,\n",
        "                   test_row_of_stds), np.array([[1, 2], [3, 4], [5, 6]]))"
      ],
      "id": "jQig7lqASI-o"
    },
    {
      "cell_type": "markdown",
      "metadata": {
        "deletable": false,
        "editable": false,
        "hidden": true,
        "nbgrader": {
          "cell_type": "markdown",
          "checksum": "542ce8322071f76be2fda70d75bf427e",
          "grade": false,
          "grade_id": "cell-Q1DataAnalysisProblem2",
          "locked": true,
          "schema_version": 3,
          "solution": false,
          "task": false
        },
        "id": "EASTE8SSSI-o"
      },
      "source": [
        "Apply data standardisation as per above to the Spotify data, both training and testing."
      ],
      "id": "EASTE8SSSI-o"
    },
    {
      "cell_type": "code",
      "execution_count": null,
      "metadata": {
        "ExecuteTime": {
          "end_time": "2021-12-24T15:19:26.095999Z",
          "start_time": "2021-12-24T15:19:26.089478Z"
        },
        "deletable": false,
        "editable": false,
        "hidden": true,
        "nbgrader": {
          "cell_type": "code",
          "checksum": "701a621af2bed64d0197aa7825ec0121",
          "grade": false,
          "grade_id": "cell-Q1DataAnalysisSolution3",
          "locked": true,
          "schema_version": 3,
          "solution": false,
          "task": false
        },
        "id": "WPdmsYEKSI-o"
      },
      "outputs": [],
      "source": [
        "spotify_training_data_input, spotify_row_of_avgs, spotify_row_of_stds = standardise(\n",
        "    spotify_training_data_input)\n",
        "spotify_testing_data_input = (spotify_testing_data_input -\n",
        "                              spotify_row_of_avgs) / spotify_row_of_stds"
      ],
      "id": "WPdmsYEKSI-o"
    },
    {
      "cell_type": "markdown",
      "metadata": {
        "deletable": false,
        "editable": false,
        "hidden": true,
        "nbgrader": {
          "cell_type": "markdown",
          "checksum": "6fd3d491d01ec58645bdddf54c932ad3",
          "grade": false,
          "grade_id": "cell-Q1DataAnalysisProblem3",
          "locked": true,
          "schema_version": 3,
          "solution": false,
          "task": false
        },
        "id": "a6AR6DDoSI-o"
      },
      "source": [
        "In order to prepare our normalised data for a data analysis we also need to build an augmented data matrix. Implement function $\\mathtt{linear\\_regression\\_data}$ that computes (and outputs) the linear regression *data_matrix* for a given *data_inputs* matrix."
      ],
      "id": "a6AR6DDoSI-o"
    },
    {
      "cell_type": "code",
      "execution_count": null,
      "metadata": {
        "ExecuteTime": {
          "end_time": "2021-12-24T15:19:26.235691Z",
          "start_time": "2021-12-24T15:19:26.222118Z"
        },
        "deletable": false,
        "hidden": true,
        "nbgrader": {
          "cell_type": "code",
          "checksum": "6813aae816094127e029852c8b8da8b0",
          "grade": false,
          "grade_id": "cell-Q1DataAnalysisSolution4",
          "locked": false,
          "schema_version": 3,
          "solution": true,
          "task": false
        },
        "id": "ukmAd2UISI-o"
      },
      "outputs": [],
      "source": [
        "def linear_regression_data(data_inputs):\n",
        "    # YOUR CODE HERE\n",
        "    data = []\n",
        "    for i in range(data_inputs.shape[0]):\n",
        "        key = list(data_inputs[i])\n",
        "        key.insert(0,1)\n",
        "        \n",
        "        data.append(key)\n",
        "    return np.array(data)\n",
        "    raise NotImplementedError()"
      ],
      "id": "ukmAd2UISI-o"
    },
    {
      "cell_type": "markdown",
      "metadata": {
        "deletable": false,
        "editable": false,
        "hidden": true,
        "nbgrader": {
          "cell_type": "markdown",
          "checksum": "3039b282a03a19795750f5ff061e952d",
          "grade": false,
          "grade_id": "cell-Q1DataAnalysisMarking3",
          "locked": true,
          "schema_version": 3,
          "solution": false,
          "task": false
        },
        "id": "Iuy58HVtSI-p"
      },
      "source": [
        "Test your function with the following unit test. Passing the test will be awarded with **1 mark**."
      ],
      "id": "Iuy58HVtSI-p"
    },
    {
      "cell_type": "code",
      "execution_count": null,
      "metadata": {
        "ExecuteTime": {
          "end_time": "2021-12-24T15:19:26.390075Z",
          "start_time": "2021-12-24T15:19:26.372261Z"
        },
        "deletable": false,
        "editable": false,
        "hidden": true,
        "nbgrader": {
          "cell_type": "code",
          "checksum": "68d5ef0afced829bfe4a46d46bdbfb46",
          "grade": true,
          "grade_id": "cell-Q1DataAnalysisTest3",
          "locked": true,
          "points": 1,
          "schema_version": 3,
          "solution": false,
          "task": false
        },
        "id": "wmfDjcq4SI-p"
      },
      "outputs": [],
      "source": [
        "test_data_inputs = np.array([[1, 2], [2, 3], [3, 4], [4, 5]])\n",
        "np.testing.assert_array_equal(\n",
        "    linear_regression_data(test_data_inputs),\n",
        "    np.array([[1, 1, 2], [1, 2, 3], [1, 3, 4], [1, 4, 5]]))"
      ],
      "id": "wmfDjcq4SI-p"
    },
    {
      "cell_type": "markdown",
      "metadata": {
        "deletable": false,
        "editable": false,
        "hidden": true,
        "nbgrader": {
          "cell_type": "markdown",
          "checksum": "7f463290206f8b902ecb2cc47a323fa6",
          "grade": false,
          "grade_id": "cell-Q1DataAnalysisProblemInfo",
          "locked": true,
          "schema_version": 3,
          "solution": false,
          "task": false
        },
        "id": "vkWhRx_7SI-p"
      },
      "source": [
        "You are now asked to apply the above to the Spotify dataset:\n",
        "- Define a linear regression data matrix corresponding to Spotify training data. Store the matrix as *spotify_training_data_matrix*;\n",
        "- Define an objective lambda function $\\mathtt{spotify\\_objective}$ with the argument *weights* based on the $\\mathtt{binary\\_logistic\\_regression\\_cost\\_function}$ with fixed arguments *data_matrix* (equal to *spotify_training_data_matrix*) and *data_labels* (equal to *spotify_training_data_labels*). Repeat the same exercise to create a function $\\mathtt{spotify\\_gradient}$ based on $\\mathtt{binary\\_logistic\\_regression\\_gradient}$;\n",
        "- Define the starting point of the gradient descent as a zero column-vector of appropriate length and store it as *spotify_initial_weights*;\n",
        "- Define the step-size of gradient descent as \n",
        "$$\n",
        "\\tau = \\frac{3.9\\cdot s}{\\left\\|\\mathbf{\\Phi\\left(X\\right)}\\right\\|^2},\n",
        "$$\n",
        "where $s$ is the number of data samples and $\\mathbf{\\Phi\\left(X\\right)}$ is a mathematical representation of the *spotify_training_data_matrix*. Store it as *spotify_step_size*;\n",
        "- Evaluate the optimal weights by running the gradient descent in the second variation ($\\mathtt{gradient\\_descent\\_v2}$) using the above parameters and *tolerance = 1e-2*, *no_of_iterations = 1000*;\n",
        "- Store the result of the gradient descent as *spotify_optimal_weights*, *spotify_objective_values*.\n"
      ],
      "id": "vkWhRx_7SI-p"
    },
    {
      "cell_type": "code",
      "execution_count": null,
      "metadata": {
        "ExecuteTime": {
          "end_time": "2021-12-24T15:19:26.637910Z",
          "start_time": "2021-12-24T15:19:26.542317Z"
        },
        "deletable": false,
        "hidden": true,
        "nbgrader": {
          "cell_type": "code",
          "checksum": "0f3b4735237afe5cb9e6045e07cfa0a1",
          "grade": false,
          "grade_id": "cell-Q1DataAnalysisSolution",
          "locked": false,
          "schema_version": 3,
          "solution": true,
          "task": false
        },
        "scrolled": true,
        "id": "Us2YYXKBSI-p",
        "outputId": "c6bc1864-b595-454c-a63f-db75527c1435"
      },
      "outputs": [
        {
          "name": "stdout",
          "output_type": "stream",
          "text": [
            "The objective function is:  [[0.58724662]]\n",
            "The objective function is:  [[0.22305813]]\n",
            "The objective function is:  [[0.20285044]]\n",
            "The objective function is:  [[0.19276678]]\n",
            "The objective function is:  [[0.18626271]]\n",
            "The objective function is:  [[0.18167402]]\n",
            "The objective function is:  [[0.17827635]]\n"
          ]
        },
        {
          "data": {
            "text/plain": [
              "array([[-1.29646411],\n",
              "       [ 1.63631427],\n",
              "       [ 0.19574476],\n",
              "       [-0.22493942],\n",
              "       [ 2.55021477],\n",
              "       [ 0.06314623],\n",
              "       [ 1.07931859],\n",
              "       [ 0.28767344],\n",
              "       [-1.44998303],\n",
              "       [ 0.271802  ],\n",
              "       [-0.44153896],\n",
              "       [ 0.75870886],\n",
              "       [-2.35384176],\n",
              "       [ 0.66464042]])"
            ]
          },
          "execution_count": 32,
          "metadata": {},
          "output_type": "execute_result"
        }
      ],
      "source": [
        "# YOUR CODE HERE\n",
        "spotify_training_data_matrix = linear_regression_data(spotify_training_data_input)\n",
        "\n",
        "size = spotify_training_data_matrix.shape[1]\n",
        "num_obs = spotify_training_data_matrix.shape[0]\n",
        "spotify_initial_weights = np.zeros((size,1))\n",
        "\n",
        "ones = np.ones((1,num_obs))\n",
        "objective = lambda x: (ones @ (np.log(np.exp(spotify_training_data_matrix @ x)+1)) - \\\n",
        "               np.dot(spotify_training_data_labels.T,spotify_training_data_matrix) @ x)/num_obs\n",
        "\n",
        "\n",
        "gradient = lambda x: (spotify_training_data_matrix.T @ binary_logistic_activation_function(spotify_training_data_matrix @ x) - \\\n",
        "               spotify_training_data_matrix.T @ spotify_training_data_labels)/num_obs\n",
        "\n",
        "step_size = 1/(np.linalg.norm(spotify_training_data_matrix)**2/(3.9*len(spotify_training_data_matrix)))\n",
        "\n",
        "\n",
        "spotify_optimal_weights, spotify_objective_values = gradient_descent_v2(objective, gradient, spotify_initial_weights, \\\n",
        "                    step_size, no_of_iterations=1000, print_output=100, tolerance=1e-2)\n",
        "spotify_optimal_weights\n",
        "# raise NotImplementedError()"
      ],
      "id": "Us2YYXKBSI-p"
    },
    {
      "cell_type": "markdown",
      "metadata": {
        "deletable": false,
        "editable": false,
        "hidden": true,
        "nbgrader": {
          "cell_type": "markdown",
          "checksum": "071ef13b459704d269eeca249aa90c23",
          "grade": false,
          "grade_id": "cell-Q1DataAnalysisAccuracyMarking",
          "locked": true,
          "schema_version": 3,
          "solution": false,
          "task": false
        },
        "id": "Jsqow-6eSI-q"
      },
      "source": [
        "Let us now evaluate the classification accuracy."
      ],
      "id": "Jsqow-6eSI-q"
    },
    {
      "cell_type": "code",
      "execution_count": null,
      "metadata": {
        "ExecuteTime": {
          "end_time": "2021-12-24T15:19:26.779172Z",
          "start_time": "2021-12-24T15:19:26.767284Z"
        },
        "deletable": false,
        "hidden": true,
        "nbgrader": {
          "cell_type": "code",
          "checksum": "395d45c3c90005b08e30ab50fe78be79",
          "grade": false,
          "grade_id": "cell-Q1DataAnalysisAccuracySolution",
          "locked": false,
          "schema_version": 3,
          "solution": true,
          "task": false
        },
        "id": "Jydlafl8SI-q"
      },
      "outputs": [],
      "source": [
        "# YOUR CODE HERE\n",
        "logis = 1/(np.exp(-np.dot(spotify_training_data_matrix, spotify_optimal_weights))+1)\n",
        "pred = []\n",
        "for i in logis:\n",
        "    if i>0.5:\n",
        "        pred.append([1])\n",
        "    else:\n",
        "        pred.append([0])\n",
        "pred = np.array(pred)\n",
        "\n",
        "acc = classification_accuracy(spotify_training_data_labels, pred)\n",
        "spotify_classification_accuracy = acc\n",
        "# raise NotImplementedError()"
      ],
      "id": "Jydlafl8SI-q"
    },
    {
      "cell_type": "markdown",
      "metadata": {
        "deletable": false,
        "editable": false,
        "hidden": true,
        "nbgrader": {
          "cell_type": "markdown",
          "checksum": "5319134727fe29b7df7a18399c24cd5c",
          "grade": false,
          "grade_id": "cell-040416bba357ace9",
          "locked": true,
          "schema_version": 3,
          "solution": false,
          "task": false
        },
        "id": "KyLntiu6SI-q"
      },
      "source": [
        "The correct classification accuracy is awarded **1 mark** as well as the correct weights vector."
      ],
      "id": "KyLntiu6SI-q"
    },
    {
      "cell_type": "code",
      "execution_count": null,
      "metadata": {
        "ExecuteTime": {
          "end_time": "2021-12-24T15:19:26.917802Z",
          "start_time": "2021-12-24T15:19:26.907829Z"
        },
        "deletable": false,
        "editable": false,
        "hidden": true,
        "nbgrader": {
          "cell_type": "code",
          "checksum": "57ab643d39af08a5c2ad901f004392f3",
          "grade": true,
          "grade_id": "cell-Q1DataAnalysisAccuracyTest",
          "locked": true,
          "points": 1,
          "schema_version": 3,
          "solution": false,
          "task": false
        },
        "id": "Jm6Pvx3DSI-q"
      },
      "outputs": [],
      "source": [
        "np.testing.assert_array_almost_equal(spotify_classification_accuracy,\n",
        "                                     139 / 150)"
      ],
      "id": "Jm6Pvx3DSI-q"
    },
    {
      "cell_type": "code",
      "execution_count": null,
      "metadata": {
        "ExecuteTime": {
          "end_time": "2021-12-24T15:19:26.933152Z",
          "start_time": "2021-12-24T15:19:26.921792Z"
        },
        "deletable": false,
        "editable": false,
        "hidden": true,
        "nbgrader": {
          "cell_type": "code",
          "checksum": "a13487b4776537c4271b9d4f9e35dd5a",
          "grade": true,
          "grade_id": "cell-Q1DataAnalysisWeightsTest",
          "locked": true,
          "points": 1,
          "schema_version": 3,
          "solution": false,
          "task": false
        },
        "id": "hVnE5xwWSI-r"
      },
      "outputs": [],
      "source": [
        "np.testing.assert_array_almost_equal(spotify_optimal_weights, np.array([[-1.29646411], [ 1.63631427], [ 0.19574476],\\\n",
        "                                                                        [-0.22493942], [ 2.55021477], [ 0.06314623],\\\n",
        "                                                                        [ 1.07931859], [ 0.28767344], [-1.44998303],\\\n",
        "                                                                        [ 0.271802  ], [-0.44153896], [ 0.75870886],\\\n",
        "                                                                        [-2.35384176], [ 0.66464042]]))"
      ],
      "id": "hVnE5xwWSI-r"
    },
    {
      "cell_type": "markdown",
      "metadata": {
        "deletable": false,
        "editable": false,
        "hidden": true,
        "nbgrader": {
          "cell_type": "markdown",
          "checksum": "7b5c876ac844b3f5a7273caf0634fb96",
          "grade": false,
          "grade_id": "cell-Q1DataAnalysisTestDataInfo",
          "locked": true,
          "schema_version": 3,
          "solution": false,
          "task": false
        },
        "id": "0_zfPsqWSI-r"
      },
      "source": [
        "In the next hidden cell your model would be tested against the training data. The correct result is awarded **2 marks**."
      ],
      "id": "0_zfPsqWSI-r"
    },
    {
      "cell_type": "code",
      "execution_count": null,
      "metadata": {
        "ExecuteTime": {
          "end_time": "2021-12-24T15:19:27.103307Z",
          "start_time": "2021-12-24T15:19:27.086356Z"
        },
        "deletable": false,
        "editable": false,
        "hidden": true,
        "nbgrader": {
          "cell_type": "code",
          "checksum": "344e710143297d37caabb173f690d9db",
          "grade": true,
          "grade_id": "cell-Q1DataAnalysisTestData",
          "locked": true,
          "points": 2,
          "schema_version": 3,
          "solution": false,
          "task": false
        },
        "id": "XLoVXoVHSI-r"
      },
      "outputs": [],
      "source": [
        "### HIDDEN TEST (running binary logistic regression on a training set)\n",
        "\n",
        "### BEGIN HIDDEN TEST\n",
        "spotify_testing_true_labels = np.array([0, 1, 0, 0, 1, 0, 1, 1, 0, 0, 0, 0, 0, 0, 0,\\\n",
        "                                        0, 1, 1, 1, 1, 0, 1, 0, 1, 1, 1, 0, 0, 1, 0,\\\n",
        "                                        0, 0, 1, 1, 1, 0, 1, 0, 0, 1, 1, 1, 1, 0, 1]).reshape(-1,1)\n",
        "spotify_testing_data_matrix = linear_regression_data(\n",
        "    spotify_testing_data_input)\n",
        "spotify_testing_regression_values = linear_model_function(\n",
        "    spotify_testing_data_matrix, spotify_optimal_weights)\n",
        "spotify_testing_predicted_labels = binary_logistic_prediction_function(\n",
        "    binary_logistic_activation_function(spotify_testing_regression_values))\n",
        "np.testing.assert_almost_equal(classification_accuracy(true_labels=spotify_testing_true_labels,\\\n",
        "                                                         recovered_labels=spotify_testing_predicted_labels), 42/45)\n",
        "### END HIDDEN TEST"
      ],
      "id": "XLoVXoVHSI-r"
    },
    {
      "cell_type": "markdown",
      "metadata": {
        "deletable": false,
        "editable": false,
        "heading_collapsed": true,
        "hidden": true,
        "nbgrader": {
          "cell_type": "markdown",
          "checksum": "a0061823ed10346ecb3dadda5f2c01da",
          "grade": false,
          "grade_id": "cell-Q1RidgeRegressionCost",
          "locked": true,
          "schema_version": 3,
          "solution": false,
          "task": false
        },
        "id": "ogj5gF-ISI-r"
      },
      "source": [
        "### Question 1d [7 marks]\n",
        "In this section we attempt to increase the classification accuracy by considering the ridge binary logistic regression. \n",
        "\n",
        "Define two functions $\\mathtt{ridge\\_binary\\_logistic\\_regression\\_cost\\_function}$ and $\\mathtt{ridge\\_binary\\_logistic\\_regression\\_gradient}$ that take $4$ arguments: the NumPy arrays *data_matrix*, *data_labels* and *weights*, and a positive float number *regularisation_parameter*. The modified cost function is defined as\n",
        "$$\n",
        "\\mathrm{L}_{\\alpha}\\left(\\mathbf{w}\\right) = \\mathrm{L}\\left(\\mathbf{w}\\right) + \\frac{\\alpha}{2}\\left\\|\\mathbf{w}\\right\\|^2,\n",
        "$$\n",
        "where $\\mathrm{L}\\left(\\mathbf{w}\\right)$ is a cost function for the binary logistic regression defined above, while the gradient function correspondingly is given by\n",
        "$$\n",
        "\\nabla \\mathrm{L}_{\\alpha}\\left(\\mathbf{w}\\right) = \n",
        "\\nabla \\mathrm{L}\\left(\\mathbf{w}\\right) + \\alpha \\mathbf{w},\n",
        "$$\n",
        "where $\\alpha$ is a mathematical representation of the *regularisation_parameter*."
      ],
      "id": "ogj5gF-ISI-r"
    },
    {
      "cell_type": "code",
      "execution_count": null,
      "metadata": {
        "ExecuteTime": {
          "end_time": "2021-12-24T15:19:27.244039Z",
          "start_time": "2021-12-24T15:19:27.231505Z"
        },
        "deletable": false,
        "hidden": true,
        "nbgrader": {
          "cell_type": "code",
          "checksum": "3dfaf68eb2f32a74eb87ee6a055624d5",
          "grade": false,
          "grade_id": "cell-Q1RidgeRegressionCostSolution",
          "locked": false,
          "schema_version": 3,
          "solution": true,
          "task": false
        },
        "id": "mLgDr2gWSI-r"
      },
      "outputs": [],
      "source": [
        "def ridge_binary_logistic_regression_cost_function(data_matrix, data_labels,\n",
        "                                                   weights,\n",
        "                                                   regularisation_parameter):\n",
        "    # YOUR CODE HERE\n",
        "    f = np.dot(data_matrix, weights)\n",
        "    cost = np.log(1+np.exp(f))-np.multiply(data_labels, f)\n",
        "    cost = np.mean(cost)+regularisation_parameter/2*np.power(np.linalg.norm(weights),2)\n",
        "    return cost\n",
        "    raise NotImplementedError()"
      ],
      "id": "mLgDr2gWSI-r"
    },
    {
      "cell_type": "code",
      "execution_count": null,
      "metadata": {
        "ExecuteTime": {
          "end_time": "2021-12-24T15:19:27.275712Z",
          "start_time": "2021-12-24T15:19:27.246949Z"
        },
        "deletable": false,
        "hidden": true,
        "nbgrader": {
          "cell_type": "code",
          "checksum": "a23a49b1c1cddaeff8aefb6f085a9c24",
          "grade": false,
          "grade_id": "cell-Q1RidgeRegressionGradientSolution",
          "locked": false,
          "schema_version": 3,
          "solution": true,
          "task": false
        },
        "id": "6Ma-sOa6SI-s"
      },
      "outputs": [],
      "source": [
        "def ridge_binary_logistic_regression_gradient(data_matrix, data_labels,\n",
        "                                              weights,\n",
        "                                              regularisation_parameter):\n",
        "    \n",
        "    # YOUR CODE HERE\n",
        "    grad = np.zeros(weights.T.shape)\n",
        "    for i in range(data_matrix.shape[0]):\n",
        "        data = data_matrix[i,:]\n",
        "        sigmoid = 1/(1+np.exp(-np.dot(data,weights)))\n",
        "        grad += np.multiply(data,(sigmoid-data_labels[i]))\n",
        "        \n",
        "    grad = grad/data_matrix.shape[0] + regularisation_parameter*weights.T\n",
        "    return np.transpose(grad)\n",
        "    raise NotImplementedError()"
      ],
      "id": "6Ma-sOa6SI-s"
    },
    {
      "cell_type": "markdown",
      "metadata": {
        "deletable": false,
        "editable": false,
        "hidden": true,
        "nbgrader": {
          "cell_type": "markdown",
          "checksum": "adcae1b925c3487779cc98bb7f28ada4",
          "grade": false,
          "grade_id": "cell-Q1RidgeRegressionCostMarking",
          "locked": true,
          "schema_version": 3,
          "solution": false,
          "task": false
        },
        "id": "dhHgGMvzSI-s"
      },
      "source": [
        "Test your functions with the following unit tests. Passing each test will be awarded with **1 mark**."
      ],
      "id": "dhHgGMvzSI-s"
    },
    {
      "cell_type": "code",
      "execution_count": null,
      "metadata": {
        "ExecuteTime": {
          "end_time": "2021-12-24T15:19:27.446253Z",
          "start_time": "2021-12-24T15:19:27.429299Z"
        },
        "deletable": false,
        "editable": false,
        "hidden": true,
        "nbgrader": {
          "cell_type": "code",
          "checksum": "d65a17320554cf95a77b20c55205eeea",
          "grade": true,
          "grade_id": "cell-Q1RidgeRegressionCostTest",
          "locked": true,
          "points": 1,
          "schema_version": 3,
          "solution": false,
          "task": false
        },
        "id": "C8_BH-RZSI-s"
      },
      "outputs": [],
      "source": [
        "test_data_matrix = np.array([[1, -0.12793802, -0.19751682, 0.15226261], [1, -0.2000033, 0.52618148, 0.8782188],\\\n",
        "                             [1, -0.8613664, 0.30565866, -0.49296481], [1, -0.84047233, 0.9252299, 0.99071071],\\\n",
        "                             [1, -0.1042736, 0.52956168, -0.47798761], [1, 0.11284415, -0.94223132, 0.65812316],\\\n",
        "                             [1, -0.24878785, 0.85320211, -0.20377839], [1, 0.86694977, -0.55784702, 0.39560232],\\\n",
        "                             [1, 0.63581885, -0.11724269, -0.0979702], [1, 0.92166492, 0.76064856, 0.20755241]])\n",
        "test_data_labels = np.array([[0], [1], [1], [1], [0], [1], [0], [0], [1], [0]])\n",
        "test_weights = np.array([[-0.10541393], [0.57801403], [0.67163957],\n",
        "                         [-0.34652194]])\n",
        "regularisation_parameter = 1\n",
        "np.testing.assert_array_almost_equal(\n",
        "    ridge_binary_logistic_regression_cost_function(\n",
        "        data_matrix=test_data_matrix,\n",
        "        data_labels=test_data_labels,\n",
        "        weights=test_weights,\n",
        "        regularisation_parameter=regularisation_parameter), 1.304991)"
      ],
      "id": "C8_BH-RZSI-s"
    },
    {
      "cell_type": "code",
      "execution_count": null,
      "metadata": {
        "ExecuteTime": {
          "end_time": "2021-12-24T15:19:27.477170Z",
          "start_time": "2021-12-24T15:19:27.451240Z"
        },
        "deletable": false,
        "editable": false,
        "hidden": true,
        "nbgrader": {
          "cell_type": "code",
          "checksum": "7502796a08f315c604f7ec9fe0e16e89",
          "grade": true,
          "grade_id": "cell-Q1RidgeRegressionGradientTest",
          "locked": true,
          "points": 1,
          "schema_version": 3,
          "solution": false,
          "task": false
        },
        "id": "zXtqiZEzSI-s"
      },
      "outputs": [],
      "source": [
        "test_data_matrix = np.array([[1, -0.12793802, -0.19751682, 0.15226261], [1, -0.2000033, 0.52618148, 0.8782188],\\\n",
        "                             [1, -0.8613664, 0.30565866, -0.49296481], [1, -0.84047233, 0.9252299, 0.99071071],\\\n",
        "                             [1, -0.1042736, 0.52956168, -0.47798761], [1, 0.11284415, -0.94223132, 0.65812316],\\\n",
        "                             [1, -0.24878785, 0.85320211, -0.20377839], [1, 0.86694977, -0.55784702, 0.39560232],\\\n",
        "                             [1, 0.63581885, -0.11724269, -0.0979702], [1, 0.92166492, 0.76064856, 0.20755241]])\n",
        "test_data_labels = np.array([[0], [1], [1], [1], [0], [1], [0], [0], [1], [0]])\n",
        "test_weights = np.array([[-0.10541393], [0.57801403], [0.67163957],\n",
        "                         [-0.34652194]])\n",
        "regularisation_parameter = 1\n",
        "test_gradient = np.array([[-0.111815], [0.728467], [0.746135], [-0.467219]])\n",
        "np.testing.assert_array_almost_equal(\n",
        "    ridge_binary_logistic_regression_gradient(\n",
        "        data_matrix=test_data_matrix,\n",
        "        data_labels=test_data_labels,\n",
        "        weights=test_weights,\n",
        "        regularisation_parameter=regularisation_parameter), test_gradient)"
      ],
      "id": "zXtqiZEzSI-s"
    },
    {
      "cell_type": "markdown",
      "metadata": {
        "deletable": false,
        "editable": false,
        "hidden": true,
        "nbgrader": {
          "cell_type": "markdown",
          "checksum": "e835caef259e7e0a7108026e0e0901dc",
          "grade": false,
          "grade_id": "cell-Q1RidgeRegressionGridSearch",
          "locked": true,
          "schema_version": 3,
          "solution": false,
          "task": false
        },
        "id": "DvDPrZC5SI-s"
      },
      "source": [
        "Write a function $\\mathtt{grid\\_search}$ that performs a search for a minimum value of a given function on a given grid points. You function should take two parameters \n",
        "- *objective* - a lambda-function to minimise taking one argument;\n",
        "- *grid* - is a list of grid points\n",
        "The function should return the grid point with the minimal value of objective function."
      ],
      "id": "DvDPrZC5SI-s"
    },
    {
      "cell_type": "code",
      "execution_count": null,
      "metadata": {
        "ExecuteTime": {
          "end_time": "2021-12-24T15:19:27.617796Z",
          "start_time": "2021-12-24T15:19:27.608818Z"
        },
        "deletable": false,
        "hidden": true,
        "nbgrader": {
          "cell_type": "code",
          "checksum": "aadc188b74becc6c3324f07062e3a893",
          "grade": false,
          "grade_id": "cell-Q1RidgeRegressionGridSearchSolution",
          "locked": false,
          "schema_version": 3,
          "solution": true,
          "task": false
        },
        "id": "QN0CJqXXSI-t"
      },
      "outputs": [],
      "source": [
        "def grid_search(objective, grid):\n",
        "    # YOUR CODE HERE\n",
        "    min_point = grid[0]\n",
        "    min_value = objective(min_point)\n",
        "    for point in grid:\n",
        "        value = objective(point)\n",
        "        if value<min_value:\n",
        "            min_point = point\n",
        "            min_value = value\n",
        "        else:\n",
        "            continue\n",
        "    return min_point\n",
        "    raise NotImplementedError()"
      ],
      "id": "QN0CJqXXSI-t"
    },
    {
      "cell_type": "markdown",
      "metadata": {
        "deletable": false,
        "editable": false,
        "hidden": true,
        "nbgrader": {
          "cell_type": "markdown",
          "checksum": "33b9d5714d6db65b9f4de258cd67ca76",
          "grade": false,
          "grade_id": "cell-Q1RidgeRegressionGridSearchMarking",
          "locked": true,
          "schema_version": 3,
          "solution": false,
          "task": false
        },
        "id": "d22exJlASI-t"
      },
      "source": [
        "Test your functions with the following unit test. Passing the test will be awarded with **1 mark**."
      ],
      "id": "d22exJlASI-t"
    },
    {
      "cell_type": "code",
      "execution_count": null,
      "metadata": {
        "ExecuteTime": {
          "end_time": "2021-12-24T15:19:27.789337Z",
          "start_time": "2021-12-24T15:19:27.764401Z"
        },
        "deletable": false,
        "editable": false,
        "hidden": true,
        "nbgrader": {
          "cell_type": "code",
          "checksum": "bd19420a97deb00123cf99cae8eb5cfc",
          "grade": true,
          "grade_id": "cell-Q1RidgeRegressionGridSearchTest",
          "locked": true,
          "points": 1,
          "schema_version": 3,
          "solution": false,
          "task": false
        },
        "id": "CP4ifNyZSI-t"
      },
      "outputs": [],
      "source": [
        "test_objective = lambda x: x[0]**2 - 2 * x[0] * x[1] + 2 * x[1]**2 + x[\n",
        "    0] - 3 * x[1]\n",
        "test_grid = [(x, y) for x in range(5) for y in range(5)]\n",
        "np.testing.assert_almost_equal(grid_search(test_objective, test_grid), (0, 1))"
      ],
      "id": "CP4ifNyZSI-t"
    },
    {
      "cell_type": "markdown",
      "metadata": {
        "deletable": false,
        "editable": false,
        "hidden": true,
        "nbgrader": {
          "cell_type": "markdown",
          "checksum": "49326b26863af9bba170e5e57bfbb895",
          "grade": false,
          "grade_id": "cell-Q1RidgeRegressionGridSearchApplicationInfo",
          "locked": true,
          "schema_version": 3,
          "solution": false,
          "task": false
        },
        "id": "mGaChy2OSI-t"
      },
      "source": [
        "You are now asked to run the below code to find the optimal value of a hyperparameter *regularisation_parameter* and then find the *spotify_optimal_weights* corresponding to the value of the hyperparameter."
      ],
      "id": "mGaChy2OSI-t"
    },
    {
      "cell_type": "code",
      "execution_count": null,
      "metadata": {
        "ExecuteTime": {
          "end_time": "2021-12-24T15:19:29.368116Z",
          "start_time": "2021-12-24T15:19:27.947954Z"
        },
        "deletable": false,
        "editable": false,
        "hidden": true,
        "nbgrader": {
          "cell_type": "code",
          "checksum": "2438693e1625032d58722cf3dc55f99f",
          "grade": false,
          "grade_id": "cell-Q1RidgeRegressionGridSearchApplication",
          "locked": true,
          "schema_version": 3,
          "solution": false,
          "task": false
        },
        "id": "7rR7ifwNSI-t",
        "outputId": "c3e84a81-f1af-4516-bbe7-411ec9646b72"
      },
      "outputs": [
        {
          "name": "stdout",
          "output_type": "stream",
          "text": [
            "The objective function is:  0.5872466173365867\n",
            "The objective function is:  0.1645854918139115\n",
            "The objective function is:  0.5872466173365867\n",
            "The objective function is:  0.1645854918139115\n",
            "The objective function is:  0.587669428900999\n",
            "The objective function is:  0.5880891780430275\n",
            "The objective function is:  0.5885058961868689\n",
            "The objective function is:  0.588919614342821\n",
            "The objective function is:  0.5893303631139127\n",
            "The objective function is:  0.5897381727024081\n",
            "The objective function is:  0.5901430729161901\n",
            "The objective function is:  0.5905450931750227\n",
            "The objective function is:  0.5909442625166995\n",
            "The objective function is:  0.608311170445511\n",
            "The classification accuracy for the training set is 92.67 %. This is achieved for the hyperparameter value 0.03\n"
          ]
        }
      ],
      "source": [
        "spotify_regularisation_parameter_grid = np.arange(0, .1, 0.01)\n",
        "\n",
        "spotify_validation_error = lambda regularisation_parameter: 1-classification_accuracy(spotify_training_data_labels,\\\n",
        "                    binary_logistic_prediction_function(\n",
        "                    binary_logistic_activation_function(\n",
        "                    linear_model_function(spotify_training_data_matrix,\n",
        "                    gradient_descent_v2(\n",
        "                    objective = lambda weights: ridge_binary_logistic_regression_cost_function(\n",
        "                                spotify_training_data_matrix,\n",
        "                                spotify_training_data_labels,\n",
        "                                weights,\n",
        "                                regularisation_parameter),\n",
        "                    gradient = lambda weights: ridge_binary_logistic_regression_gradient(\n",
        "                                spotify_training_data_matrix,\n",
        "                                spotify_training_data_labels,\n",
        "                                weights,\n",
        "                                regularisation_parameter),\n",
        "                    initial_weights = np.zeros(shape = (spotify_training_data_matrix.shape[1], 1)),\n",
        "                    step_size = 1/(np.linalg.norm(spotify_training_data_matrix)**2/(3.9*len(spotify_training_data_matrix))+regularisation_parameter),\n",
        "                    no_of_iterations = 2000,\n",
        "                    print_output = 2001,\n",
        "                    tolerance = 1e-5\n",
        "                    )[0]))))\n",
        "\n",
        "spotify_optimal_regularisation_parameter = grid_search(\n",
        "    spotify_validation_error, spotify_regularisation_parameter_grid)\n",
        "\n",
        "spotify_optimal_weights = gradient_descent_v2(\n",
        "    objective=lambda weights: ridge_binary_logistic_regression_cost_function(\n",
        "        spotify_training_data_matrix, spotify_training_data_labels, weights,\n",
        "        spotify_optimal_regularisation_parameter),\n",
        "    gradient=lambda weights: ridge_binary_logistic_regression_gradient(\n",
        "        spotify_training_data_matrix, spotify_training_data_labels, weights,\n",
        "        spotify_optimal_regularisation_parameter),\n",
        "    initial_weights=np.zeros(shape=(spotify_training_data_matrix.shape[1], 1)),\n",
        "    step_size=1 /\n",
        "    (np.linalg.norm(spotify_training_data_matrix)**2 /\n",
        "     (3.9 * len(spotify_training_data_matrix)) + regularisation_parameter),\n",
        "    no_of_iterations=2000,\n",
        "    print_output=2001,\n",
        "    tolerance=1e-5)[0]\n",
        "\n",
        "spotify_training_regression_values = linear_model_function(\n",
        "    spotify_training_data_matrix, spotify_optimal_weights)\n",
        "spotify_training_predicted_labels = binary_logistic_prediction_function(\n",
        "    binary_logistic_activation_function(spotify_training_regression_values))\n",
        "spotify_classification_accuracy = classification_accuracy(true_labels=spotify_training_data_labels,\\\n",
        "                                                         recovered_labels=spotify_training_predicted_labels)\n",
        "print(\n",
        "    \"The classification accuracy for the training set is {p:.2f} %. This is achieved for the hyperparameter value {a}\"\n",
        "    .format(p=100 * spotify_classification_accuracy,\n",
        "            a=spotify_optimal_regularisation_parameter))"
      ],
      "id": "7rR7ifwNSI-t"
    },
    {
      "cell_type": "code",
      "execution_count": null,
      "metadata": {
        "id": "WCOisXFiSI-u",
        "outputId": "4b3ef11f-e0a9-43ae-972f-51bef87c9bd4"
      },
      "outputs": [
        {
          "data": {
            "text/plain": [
              "Text(0.5, 1.0, 'Gradient Descent on Spotify')"
            ]
          },
          "execution_count": 44,
          "metadata": {},
          "output_type": "execute_result"
        },
        {
          "data": {
            "image/png": "[encoded data removed]",
            "text/plain": [
              "<Figure size 432x288 with 1 Axes>"
            ]
          },
          "metadata": {
            "needs_background": "light"
          },
          "output_type": "display_data"
        }
      ],
      "source": [
        "import matplotlib.pyplot as plt\n",
        "objective = [i[0][0] for i in spotify_objective_values]\n",
        "plt.plot(objective)\n",
        "plt.xlabel('Number of Iteration')\n",
        "plt.ylabel('Value of Cost function')\n",
        "plt.title('Gradient Descent on Spotify')"
      ],
      "id": "WCOisXFiSI-u"
    },
    {
      "cell_type": "markdown",
      "metadata": {
        "deletable": false,
        "editable": false,
        "hidden": true,
        "nbgrader": {
          "cell_type": "markdown",
          "checksum": "562195d53d50491b832852a805a30091",
          "grade": false,
          "grade_id": "cell-Q1RidgeRegressionMarking",
          "locked": true,
          "schema_version": 3,
          "solution": false,
          "task": false
        },
        "id": "ecd8g_SxSI-u"
      },
      "source": [
        "Test your results with the following unit tests. Correct value of the hyperparameter is awarded **1 mark** as well as the right classification accuracy for training set. In the next hidden cell your model would be tested against the training data. The correct result is awarded **2 marks**."
      ],
      "id": "ecd8g_SxSI-u"
    },
    {
      "cell_type": "code",
      "execution_count": null,
      "metadata": {
        "ExecuteTime": {
          "end_time": "2021-12-24T15:19:29.383081Z",
          "start_time": "2021-12-24T15:19:29.373103Z"
        },
        "deletable": false,
        "editable": false,
        "hidden": true,
        "nbgrader": {
          "cell_type": "code",
          "checksum": "b6b5b541fbc34538423909ed5b78565f",
          "grade": true,
          "grade_id": "cell-Q1RidgeRegressionGridSearchTest1",
          "locked": true,
          "points": 1,
          "schema_version": 3,
          "solution": false,
          "task": false
        },
        "id": "0csFSq6PSI-u"
      },
      "outputs": [],
      "source": [
        "np.testing.assert_almost_equal(spotify_optimal_regularisation_parameter, 0.03)"
      ],
      "id": "0csFSq6PSI-u"
    },
    {
      "cell_type": "code",
      "execution_count": null,
      "metadata": {
        "ExecuteTime": {
          "end_time": "2021-12-24T15:19:29.399034Z",
          "start_time": "2021-12-24T15:19:29.386296Z"
        },
        "deletable": false,
        "editable": false,
        "hidden": true,
        "nbgrader": {
          "cell_type": "code",
          "checksum": "6977c2cd047fd52f74ab7ac66d659ce8",
          "grade": true,
          "grade_id": "cell-Q1RidgeRegressionGridSearchTest2",
          "locked": true,
          "points": 1,
          "schema_version": 3,
          "solution": false,
          "task": false
        },
        "id": "XcRKwWEHSI-u"
      },
      "outputs": [],
      "source": [
        "np.testing.assert_almost_equal(spotify_classification_accuracy, 0.9266666)"
      ],
      "id": "XcRKwWEHSI-u"
    },
    {
      "cell_type": "code",
      "execution_count": null,
      "metadata": {
        "ExecuteTime": {
          "end_time": "2021-12-24T15:19:29.414990Z",
          "start_time": "2021-12-24T15:19:29.406014Z"
        },
        "deletable": false,
        "editable": false,
        "hidden": true,
        "nbgrader": {
          "cell_type": "code",
          "checksum": "e4985fbb74f0f71afab7a7fc23691511",
          "grade": true,
          "grade_id": "cell-Q1RidgeRegressionGridSearchTest3",
          "locked": true,
          "points": 2,
          "schema_version": 3,
          "solution": false,
          "task": false
        },
        "id": "i8I76t96SI-v"
      },
      "outputs": [],
      "source": [
        "### HIDDEN TEST (running ridge binary logistic regression on a training set)\n",
        "\n",
        "### BEGIN HIDDEN TEST\n",
        "spotify_testing_true_labels = np.array([0, 1, 0, 0, 1, 0, 1, 1, 0, 0, 0, 0, 0, 0, 0,\\\n",
        "                                        0, 1, 1, 1, 1, 0, 1, 0, 1, 1, 1, 0, 0, 1, 0,\\\n",
        "                                        0, 0, 1, 1, 1, 0, 1, 0, 0, 1, 1, 1, 1, 0, 1]).reshape(-1,1)\n",
        "spotify_testing_data_matrix = linear_regression_data(\n",
        "    spotify_testing_data_input)\n",
        "spotify_testing_regression_values = linear_model_function(\n",
        "    spotify_testing_data_matrix, spotify_optimal_weights)\n",
        "spotify_testing_predicted_labels = binary_logistic_prediction_function(\n",
        "    binary_logistic_activation_function(spotify_testing_regression_values))\n",
        "np.testing.assert_almost_equal(classification_accuracy(true_labels=spotify_testing_true_labels,\\\n",
        "                                                         recovered_labels=spotify_testing_predicted_labels), 42/45)\n",
        "### END HIDDEN TEST"
      ],
      "id": "i8I76t96SI-v"
    },
    {
      "cell_type": "markdown",
      "metadata": {
        "deletable": false,
        "editable": false,
        "nbgrader": {
          "cell_type": "markdown",
          "checksum": "3fb426c5333d1f4268693b4663ca68e1",
          "grade": false,
          "grade_id": "cell-Section2Info",
          "locked": true,
          "schema_version": 3,
          "solution": false,
          "task": false
        },
        "id": "7X_W6CbpSI-v"
      },
      "source": [
        "## Problem 2: Music genre classification\n",
        "This concludes the binary classification part of the final assessment. We now move on to multinomial logistic regression for multi-class classfication problems. We later apply this to another sound classification problem, namely to a classification of music by genres."
      ],
      "id": "7X_W6CbpSI-v"
    },
    {
      "cell_type": "markdown",
      "metadata": {
        "deletable": false,
        "editable": false,
        "nbgrader": {
          "cell_type": "markdown",
          "checksum": "26f98420f3f99943e70d699d19e9fa80",
          "grade": false,
          "grade_id": "cell-Q2MultinomialClassificationProblem",
          "locked": true,
          "schema_version": 3,
          "solution": false,
          "task": false
        },
        "id": "CW3MM_I_SI-v"
      },
      "source": [
        "### Question 2a [7 marks]\n",
        "As in the first exercise, implement the softmax function $\\mathtt{softmax\\_function}$ as defined in the lectures. The function takes the NumPy array argument as its main argument, but also has an optional *axis* argument to determine across which array-dimension you apply the softmax operation. If this argument is not specified (or set to None), then the softmax operation is applied to the entire array. Make sure your function works at least for NumPy arrays *argument* with arbitrary numerical values and dimension one or two."
      ],
      "id": "CW3MM_I_SI-v"
    },
    {
      "cell_type": "code",
      "execution_count": null,
      "metadata": {
        "ExecuteTime": {
          "end_time": "2021-12-24T15:19:29.430950Z",
          "start_time": "2021-12-24T15:19:29.418980Z"
        },
        "deletable": false,
        "nbgrader": {
          "cell_type": "code",
          "checksum": "c83de297d074d590fa76ca49375a6ebb",
          "grade": false,
          "grade_id": "cell-Q2SoftmaxSolution",
          "locked": false,
          "schema_version": 3,
          "solution": true,
          "task": false
        },
        "id": "rAfcGxnqSI-v"
      },
      "outputs": [],
      "source": [
        "def softmax_function(argument, axis=None):\n",
        "    # YOUR CODE HERE\n",
        "    if axis == None:\n",
        "        output = np.exp(argument - np.max(argument))\n",
        "        output = output / np.sum(output)\n",
        "    else:\n",
        "        output = np.exp(argument - np.expand_dims(np.max(argument, axis), axis))\n",
        "        output = output / np.expand_dims(np.sum(output, axis), axis)\n",
        "    return output\n",
        "    raise NotImplementedError()"
      ],
      "id": "rAfcGxnqSI-v"
    },
    {
      "cell_type": "markdown",
      "metadata": {
        "deletable": false,
        "editable": false,
        "nbgrader": {
          "cell_type": "markdown",
          "checksum": "4a50d851c5ef69b2e963d1852cb81428",
          "grade": false,
          "grade_id": "cell-Q2SoftmaxMarking",
          "locked": true,
          "schema_version": 3,
          "solution": false,
          "task": false
        },
        "id": "V_3QIkilSI-v"
      },
      "source": [
        "Test your function with the following unit test. Passing the test will be awarded with **1 mark**."
      ],
      "id": "V_3QIkilSI-v"
    },
    {
      "cell_type": "code",
      "execution_count": null,
      "metadata": {
        "ExecuteTime": {
          "end_time": "2021-12-24T15:19:29.446913Z",
          "start_time": "2021-12-24T15:19:29.434937Z"
        },
        "deletable": false,
        "editable": false,
        "nbgrader": {
          "cell_type": "code",
          "checksum": "8f80894f74c5a0b8681a30f3c16363a5",
          "grade": true,
          "grade_id": "cell-Q2SoftmaxTest",
          "locked": true,
          "points": 1,
          "schema_version": 3,
          "solution": false,
          "task": false
        },
        "id": "lvNFAZqDSI-w"
      },
      "outputs": [],
      "source": [
        "np.testing.assert_array_almost_equal(softmax_function(np.array([[1.5], [0.3], [-3.7]])), np.array([[0.76528029], \\\n",
        "                                                        [0.23049799], [0.00422172]]))\n",
        "np.testing.assert_array_almost_equal(softmax_function(np.array([[1.5, 3], [0.3, -0.7], [-3.7, 2]]), axis=0), \\\n",
        "                          np.array([[0.76528029, 0.71807976], [0.23049799, 0.01775346], \\\n",
        "                                    [0.00422172, 0.26416678]]))"
      ],
      "id": "lvNFAZqDSI-w"
    },
    {
      "cell_type": "markdown",
      "metadata": {
        "deletable": false,
        "editable": false,
        "nbgrader": {
          "cell_type": "markdown",
          "checksum": "dae0f0862336ec0ba938e12809947e1b",
          "grade": false,
          "grade_id": "cell-Q2PredictionFunctionProblem",
          "locked": true,
          "schema_version": 3,
          "solution": false,
          "task": false
        },
        "id": "f11YXMqUSI-w"
      },
      "source": [
        "At the next stage write a function $\\mathtt{multinomial\\_prediction\\_function}$ that turns your predicitons into labels. The function takes the arguments *data_matrix* and *weight_matrix* as inputs and returns a column-vector of labels with values in  $\\left\\{0, K-1\\right\\}$ as its output, where $K$ is the number of classes."
      ],
      "id": "f11YXMqUSI-w"
    },
    {
      "cell_type": "code",
      "execution_count": null,
      "metadata": {
        "id": "GyCPl78gSI-w"
      },
      "outputs": [],
      "source": [
        "def model_function(data_matrix, weight_matrix):\n",
        "    return data_matrix @ weight_matrix"
      ],
      "id": "GyCPl78gSI-w"
    },
    {
      "cell_type": "code",
      "execution_count": null,
      "metadata": {
        "ExecuteTime": {
          "end_time": "2021-12-24T15:19:29.462865Z",
          "start_time": "2021-12-24T15:19:29.450896Z"
        },
        "deletable": false,
        "nbgrader": {
          "cell_type": "code",
          "checksum": "2aa302d27d821f6be0559ddf36edc8a6",
          "grade": false,
          "grade_id": "cell-Q2PredictionFunctionSolution",
          "locked": false,
          "schema_version": 3,
          "solution": true,
          "task": false
        },
        "id": "eBcqhmA4SI-w"
      },
      "outputs": [],
      "source": [
        "def multinomial_prediction_function(data_matrix, weight_matrix):\n",
        "    # YOUR CODE HERE\n",
        "    return np.argmax(model_function(data_matrix, weight_matrix), axis=1)\n",
        "    raise NotImplementedError()"
      ],
      "id": "eBcqhmA4SI-w"
    },
    {
      "cell_type": "markdown",
      "metadata": {
        "deletable": false,
        "editable": false,
        "nbgrader": {
          "cell_type": "markdown",
          "checksum": "088186fbaee8fa662483b9c37a38cbd1",
          "grade": false,
          "grade_id": "cell-Q2OHVProblem",
          "locked": true,
          "schema_version": 3,
          "solution": false,
          "task": false
        },
        "id": "jnztKWa6SI-w"
      },
      "source": [
        "Next, write a function $\\mathtt{one\\_hot\\_vector\\_encoding}$ that converts an NumPy array labels with values in the range of $\\left\\{0,K-1\\right\\}$  into so-called one-hot vector encodings. For example, for  $K=3$  and a label vector  $\\mathtt{labels} = (2\\,0\\,1\\,2)^\\top$, the output of $\\mathtt{one\\_hot\\_vector\\_encoding}(\\mathit{labels})$ should be a two-dimensional NumPy array of the form:\n",
        "$$\n",
        "\\begin{pmatrix}\n",
        "0 & 0 & 1 \\\\\n",
        "1 & 0 & 0 \\\\\n",
        "0 & 1 & 0 \\\\\n",
        "0 & 0 & 1 \\\\\n",
        "\\end{pmatrix}\n",
        "$$"
      ],
      "id": "jnztKWa6SI-w"
    },
    {
      "cell_type": "code",
      "execution_count": null,
      "metadata": {
        "ExecuteTime": {
          "end_time": "2021-12-24T15:19:29.588528Z",
          "start_time": "2021-12-24T15:19:29.572599Z"
        },
        "deletable": false,
        "nbgrader": {
          "cell_type": "code",
          "checksum": "45795aa1e3b675a43ec4f4d5720865c3",
          "grade": false,
          "grade_id": "cell-Q2OHVSolution",
          "locked": false,
          "schema_version": 3,
          "solution": true,
          "task": false
        },
        "id": "1WxyFGfcSI-x"
      },
      "outputs": [],
      "source": [
        "def one_hot_vector_encoding(labels):\n",
        "    # YOUR CODE HERE\n",
        "    no_of_classes = int(np.max(labels)) + 1\n",
        "    output = np.zeros((len(labels), no_of_classes))\n",
        "    output[np.arange(len(labels)), labels] = 1\n",
        "    return output\n",
        "    raise NotImplementedError()"
      ],
      "id": "1WxyFGfcSI-x"
    },
    {
      "cell_type": "markdown",
      "metadata": {
        "deletable": false,
        "editable": false,
        "nbgrader": {
          "cell_type": "markdown",
          "checksum": "b019f3c01be9d2cadddb4e91588eb693",
          "grade": false,
          "grade_id": "cell-Q2OHVMarking",
          "locked": true,
          "schema_version": 3,
          "solution": false,
          "task": false
        },
        "id": "_1Gdiq44SI-x"
      },
      "source": [
        "Test your function with the following unit test. Passing the test will be awarded with **1 mark**."
      ],
      "id": "_1Gdiq44SI-x"
    },
    {
      "cell_type": "code",
      "execution_count": null,
      "metadata": {
        "ExecuteTime": {
          "end_time": "2021-12-24T15:19:29.775030Z",
          "start_time": "2021-12-24T15:19:29.755150Z"
        },
        "deletable": false,
        "editable": false,
        "nbgrader": {
          "cell_type": "code",
          "checksum": "88cab0a4d299048335a9c302999b0566",
          "grade": true,
          "grade_id": "cell-Q2OHVTest",
          "locked": true,
          "points": 1,
          "schema_version": 3,
          "solution": false,
          "task": false
        },
        "id": "VevyTZo5SI-x"
      },
      "outputs": [],
      "source": [
        "np.testing.assert_array_almost_equal(one_hot_vector_encoding(np.array([1, 2, 0, 3])), \\\n",
        "                          np.array([[0,1,0,0],[0,0,1,0],[1,0,0,0],[0,0,0,1]]))\n",
        "np.testing.assert_array_almost_equal(one_hot_vector_encoding(np.array([1,0,1,0])), \\\n",
        "                          np.array([[0,1],[1,0],[0,1],[1,0]]))"
      ],
      "id": "VevyTZo5SI-x"
    },
    {
      "cell_type": "markdown",
      "metadata": {
        "deletable": false,
        "editable": false,
        "nbgrader": {
          "cell_type": "markdown",
          "checksum": "94d786d13729c60877470594615b8bdf",
          "grade": false,
          "grade_id": "cell-Q2CostGradientProblem",
          "locked": true,
          "schema_version": 3,
          "solution": false,
          "task": false
        },
        "id": "E6mE_CfGSI-x"
      },
      "source": [
        "Implement the cost function and gradient for the multinomial logistic regression in terms of two functions $\\mathtt{multinomial\\_logistic\\_regression\\_cost\\_function}$ and $\\mathtt{multinomial\\_logistic\\_regression\\_gradient}$. As in the binary classification case, the arguments are the  data matrix *data_matrix* and *weights* that are now named *weight_matrix*. Instead of passing on labels as data_labels as in the binary case, you pass the one hot vector encoding representation *one_hot_vector_encodings* as your third argument. Return the cost function value, respectively the gradient, following the mathematical formulas in the lecture notes.\n",
        "\n",
        "**Remark**: both functions should include a normalisation prefactor $\\frac{1}{s}$."
      ],
      "id": "E6mE_CfGSI-x"
    },
    {
      "cell_type": "code",
      "execution_count": null,
      "metadata": {
        "ExecuteTime": {
          "end_time": "2021-12-24T15:19:29.915765Z",
          "start_time": "2021-12-24T15:19:29.905708Z"
        },
        "deletable": false,
        "nbgrader": {
          "cell_type": "code",
          "checksum": "454af5a36584a190ff960137dffbcff6",
          "grade": false,
          "grade_id": "cell-Q2CostGradientSolution1",
          "locked": false,
          "schema_version": 3,
          "solution": true,
          "task": false
        },
        "id": "qnCbYkkMSI-x"
      },
      "outputs": [],
      "source": [
        "def multinomial_logistic_regression_cost_function(data_matrix, weight_matrix,\n",
        "                                                  one_hot_vector_encodings):\n",
        "    # YOUR CODE HERE\n",
        "    model_evaluation = model_function(data_matrix, weight_matrix)\n",
        "    return (np.sum(np.log(np.sum(np.exp(model_evaluation), axis=1)) - np.sum(one_hot_vector_encodings * \\\n",
        "    model_evaluation, axis=1)))/data_matrix.shape[0]\n",
        "    raise NotImplementedError()"
      ],
      "id": "qnCbYkkMSI-x"
    },
    {
      "cell_type": "code",
      "execution_count": null,
      "metadata": {
        "ExecuteTime": {
          "end_time": "2021-12-24T15:19:29.931612Z",
          "start_time": "2021-12-24T15:19:29.918713Z"
        },
        "deletable": false,
        "nbgrader": {
          "cell_type": "code",
          "checksum": "452ced7f2289118c77b7d5e68d9cba80",
          "grade": false,
          "grade_id": "cell-Q2CostGradientSolution2",
          "locked": false,
          "schema_version": 3,
          "solution": true,
          "task": false
        },
        "id": "alG2y-bESI-x"
      },
      "outputs": [],
      "source": [
        "def multinomial_logistic_regression_gradient(data_matrix, weight_matrix,\n",
        "                                             one_hot_vector_encodings):\n",
        "    # YOUR CODE HERE\n",
        "    model_evaluation = model_function(data_matrix, weight_matrix)\n",
        "    return (data_matrix.T @ (softmax_function(model_evaluation, axis=1) - one_hot_vector_encodings))/data_matrix.shape[0]\n",
        "\n",
        "    raise NotImplementedError()"
      ],
      "id": "alG2y-bESI-x"
    },
    {
      "cell_type": "markdown",
      "metadata": {
        "deletable": false,
        "editable": false,
        "nbgrader": {
          "cell_type": "markdown",
          "checksum": "0583bd3dee91bb8657ac85eeebdd6735",
          "grade": false,
          "grade_id": "cell-Q2CostGradientMarking",
          "locked": true,
          "schema_version": 3,
          "solution": false,
          "task": false
        },
        "id": "XL8CtUgYSI-y"
      },
      "source": [
        "Test your functions with the following unit tests. Passing each test will be awarded with **1 mark**."
      ],
      "id": "XL8CtUgYSI-y"
    },
    {
      "cell_type": "code",
      "execution_count": null,
      "metadata": {
        "ExecuteTime": {
          "end_time": "2021-12-24T15:19:29.963527Z",
          "start_time": "2021-12-24T15:19:29.934727Z"
        },
        "deletable": false,
        "editable": false,
        "nbgrader": {
          "cell_type": "code",
          "checksum": "2a87555b1294e5f0326ce6c4679311fb",
          "grade": true,
          "grade_id": "cell-0fd90c488dab48da",
          "locked": true,
          "points": 1,
          "schema_version": 3,
          "solution": false,
          "task": false
        },
        "id": "irdamSKrSI-y"
      },
      "outputs": [],
      "source": [
        "test_data_matrix = np.array([[6, 4, 5], [1, 2, 8], [-3, 3, 6], [6, 5, -100],\n",
        "                             [5, 7, 2]])\n",
        "test_weight_matrix = np.array([[2, 1, -2, -4], [2, -5, 1, 4], [-2, -3, -1,\n",
        "                                                               -2]])\n",
        "test_one_hot_vector_encoding = np.array([[1., 0., 0., 0.], [0., 0., 1., 0.],\n",
        "                                         [0., 0., 0., 1.], [0., 1., 0., 0.],\n",
        "                                         [1., 0., 0., 0.]])\n",
        "np.testing.assert_array_almost_equal(\n",
        "    multinomial_logistic_regression_cost_function(\n",
        "        test_data_matrix, test_weight_matrix, test_one_hot_vector_encoding),\n",
        "    0.028611)"
      ],
      "id": "irdamSKrSI-y"
    },
    {
      "cell_type": "code",
      "execution_count": null,
      "metadata": {
        "ExecuteTime": {
          "end_time": "2021-12-24T15:19:29.993525Z",
          "start_time": "2021-12-24T15:19:29.966517Z"
        },
        "deletable": false,
        "editable": false,
        "nbgrader": {
          "cell_type": "code",
          "checksum": "e83c56c6e2f7075954962fba611fea6b",
          "grade": true,
          "grade_id": "cell-84458743823bf2e7",
          "locked": true,
          "points": 1,
          "schema_version": 3,
          "solution": false,
          "task": false
        },
        "id": "i1fyCzduSI-y"
      },
      "outputs": [],
      "source": [
        "test_data_matrix = np.array([[6, 4, 5], [1, 2, 8], [-3, 3, 6], [6, 5, -100],\n",
        "                             [5, 7, 2]])\n",
        "test_weight_matrix = np.array([[2, 1, -2, -4], [2, -5, 1, 4], [-2, -3, -1,\n",
        "                                                               -2]])\n",
        "test_one_hot_vector_encoding = np.array([[1., 0., 0., 0.], [0., 0., 1., 0.],\n",
        "                                         [0., 0., 0., 1.], [0., 1., 0., 0.],\n",
        "                                         [1., 0., 0., 0.]])\n",
        "np.testing.assert_array_almost_equal(\n",
        "    multinomial_logistic_regression_gradient(test_data_matrix,\n",
        "                                             test_weight_matrix,\n",
        "                                             test_one_hot_vector_encoding),\n",
        "    np.array([[2.346197e-02, 2.407665e-12, -2.671137e-02, 3.249397e-03],\n",
        "              [4.692401e-02, 4.815311e-12, -5.320063e-02, 6.276617e-03],\n",
        "              [1.876966e-01, 1.926122e-11, -2.129506e-01, 2.525396e-02]]))"
      ],
      "id": "i1fyCzduSI-y"
    },
    {
      "cell_type": "markdown",
      "metadata": {
        "deletable": false,
        "editable": false,
        "nbgrader": {
          "cell_type": "markdown",
          "checksum": "59a4c27301f2507852d18297523c00b7",
          "grade": false,
          "grade_id": "cell-Q2DataInfo",
          "locked": true,
          "schema_version": 3,
          "solution": false,
          "task": false
        },
        "id": "WUSyw7kLSI-z"
      },
      "source": [
        "We now proceed with loading the data. The GTZAN genre collection dataset was collected in $2000-2001$. It consists of $1000$ audio files each having $30$ seconds duration. There are $10$ classes ($10$ music genres) each containing $100$ audio tracks. Each track is in **.wav** format. It contains audio files of the following 10 genres:\n",
        "\n",
        "- Blues\n",
        "- Classical\n",
        "- Country\n",
        "- Disco\n",
        "- Hip-hop\n",
        "- Jazz\n",
        "- Metal\n",
        "- Pop\n",
        "- Reggae\n",
        "- Rock\n",
        "\n",
        "The original raw dataset can be found for example at [GTZAN dataset.](https://www.kaggle.com/andradaolteanu/gtzan-dataset-music-genre-classification) Instead of working with raw audio files, we will work with the dataset containing a number, $58$ in total, of audio file features evaluated for each file of the dataset. This file is provided together with this template. In the next cell we read and then normalise the data provided."
      ],
      "id": "WUSyw7kLSI-z"
    },
    {
      "cell_type": "code",
      "execution_count": null,
      "metadata": {
        "ExecuteTime": {
          "end_time": "2021-12-24T15:19:30.395008Z",
          "start_time": "2021-12-24T15:19:30.246310Z"
        },
        "deletable": false,
        "editable": false,
        "nbgrader": {
          "cell_type": "code",
          "checksum": "24be443c50466e81bf67fee4faf93540",
          "grade": false,
          "grade_id": "cell-Q2DataRead",
          "locked": true,
          "schema_version": 3,
          "solution": false,
          "task": false
        },
        "id": "CUmQU3jrSI-z"
      },
      "outputs": [],
      "source": [
        "GTZAN_data = np.genfromtxt('GTZAN_features.csv',\n",
        "                           skip_header=True,\n",
        "                           dtype=float,\n",
        "                           delimiter=',',\n",
        "                           usecols=range(1, 59))\n",
        "GTZAN_data, _, _ = standardise(GTZAN_data)\n",
        "\n",
        "genres_dictionary = {b'blues':0,b'classical':1,b'country':2,\\\n",
        "                    b'disco':3,b'hiphop':4,b'jazz':5,\\\n",
        "                     b'metal':6,b'pop':7,b'reggae':8,b'rock':9}\n",
        "GTZAN_labels = np.genfromtxt('GTZAN_features.csv',\n",
        "                             skip_header=True,\n",
        "                             dtype=str,\n",
        "                             delimiter=',',\n",
        "                             usecols=[59],\n",
        "                             converters={59: lambda x: genres_dictionary[x]})"
      ],
      "id": "CUmQU3jrSI-z"
    },
    {
      "cell_type": "markdown",
      "metadata": {
        "deletable": false,
        "editable": false,
        "nbgrader": {
          "cell_type": "markdown",
          "checksum": "363351dcb379522bac91e787292c044a",
          "grade": false,
          "grade_id": "cell-Q2MultinomialClassificationSetup",
          "locked": true,
          "schema_version": 3,
          "solution": false,
          "task": false
        },
        "id": "QqVR-kIrSI-z"
      },
      "source": [
        "You are now asked to apply the above to the GTZAN dataset:\n",
        "- Define a linear regression data matrix corresponding to GTZAN data. Store the matrix as *GTZAN_data_matrix*. Define a one hot vector encoding of GTZAN labels and store the result in as *GTZAN_OHV*;\n",
        "- Define an objective lambda function $\\mathtt{GTZAN\\_objective}$ with the argument *weight_matrix* based on the $\\mathtt{multinomial\\_logistic\\_regression\\_cost\\_function}$ with fixed arguments *data_matrix* (equal to *GTZAN_data_matrix*) and *data_labels* (equal to *GTZAN_OHV*). Repeat the same exercise to create a function $\\mathtt{GTZAN\\_gradient}$ based on $\\mathtt{multinomial\\_logistic\\_regression\\_gradient}$;\n",
        "- Define the starting point of the gradient descent as a zero matrix of appropriate dimensions and store it as *GTZAN_initial_weights*;\n",
        "- Define the step-size of the gradient descent as \n",
        "$$\n",
        "\\tau = \\frac{3.9\\cdot s}{\\left\\|\\mathbf{\\Phi\\left(X\\right)}\\right\\|^2},\n",
        "$$\n",
        "where $s$ is the number of data samples and $\\mathbf{\\Phi\\left(X\\right)}$ is a mathematical representation of the *GTZAN_data_matrix*. Store it as *GTZAN_step_size*;\n",
        "- Evaluate the optimal weights by running the gradient descent in the second variation ($\\mathtt{gradient\\_descent\\_v2}$) using the above parameters and *tolerance = 1e-3*, *no_of_iterations = 1000*;\n",
        "- Store the result of the gradient descent as *GTZAN_optimal_weights*, *GTZAN_objective_values*."
      ],
      "id": "QqVR-kIrSI-z"
    },
    {
      "cell_type": "code",
      "execution_count": null,
      "metadata": {
        "ExecuteTime": {
          "end_time": "2021-12-24T16:43:20.359832Z",
          "start_time": "2021-12-24T16:43:18.902530Z"
        },
        "deletable": false,
        "nbgrader": {
          "cell_type": "code",
          "checksum": "2de9f933648c31ebb535536484de6163",
          "grade": false,
          "grade_id": "cell-Q2MultinomialClassificationSolution",
          "locked": false,
          "schema_version": 3,
          "solution": true,
          "task": false
        },
        "scrolled": true,
        "id": "nBa8vHn_SI-0",
        "outputId": "afaf0ad2-27e5-46bb-fee6-f2cca30afa0a"
      },
      "outputs": [
        {
          "name": "stdout",
          "output_type": "stream",
          "text": [
            "The objective function is:  2.201403804803198\n",
            "The objective function is:  1.071740537705951\n",
            "The objective function is:  0.9087593054593581\n",
            "The objective function is:  0.82313795933349\n",
            "The objective function is:  0.7674397868461165\n",
            "The objective function is:  0.7272191278356152\n",
            "The objective function is:  0.6962696126105598\n",
            "The objective function is:  0.6714116464962456\n",
            "The objective function is:  0.6508219863668971\n",
            "The objective function is:  0.6333676186731662\n",
            "The objective function is:  0.6183005242309805\n"
          ]
        }
      ],
      "source": [
        "# YOUR CODE HERE\n",
        "GTZAN_data_matrix = linear_regression_data(GTZAN_data)\n",
        "GTZAN_OHV = one_hot_vector_encoding(GTZAN_labels)\n",
        "size = GTZAN_data_matrix.shape[1]\n",
        "num_obs = GTZAN_data_matrix.shape[0]\n",
        "clas = GTZAN_OHV.shape[1]\n",
        "GTZAN_initial_weights = np.zeros((size,10))\n",
        "\n",
        "objective = lambda x: multinomial_logistic_regression_cost_function(GTZAN_data_matrix, x, GTZAN_OHV)\n",
        "\n",
        "gradient = lambda x: multinomial_logistic_regression_gradient(GTZAN_data_matrix, x, GTZAN_OHV)\n",
        "\n",
        "step_size = (3.9*num_obs)/np.linalg.norm(GTZAN_data_matrix)**2\n",
        "\n",
        "\n",
        "GTZAN_optimal_weights, GTZAN_objective_values = gradient_descent_v2(objective, gradient, GTZAN_initial_weights, \\\n",
        "                    step_size, no_of_iterations=1000, print_output=100, tolerance=1e-3)\n",
        "# raise NotImplementedError()"
      ],
      "id": "nBa8vHn_SI-0"
    },
    {
      "cell_type": "markdown",
      "metadata": {
        "id": "ucN4pYE4SI-0"
      },
      "source": [
        "### NOTICE!!!\n",
        "The value of objective function and the norms of optimal parameters are quite close that they are the same in the first two digits"
      ],
      "id": "ucN4pYE4SI-0"
    },
    {
      "cell_type": "markdown",
      "metadata": {
        "deletable": false,
        "editable": false,
        "nbgrader": {
          "cell_type": "markdown",
          "checksum": "b811f2e53e05695f7d01989952985673",
          "grade": false,
          "grade_id": "Q2MultinomialClassificationMarking",
          "locked": true,
          "schema_version": 3,
          "solution": false,
          "task": false
        },
        "id": "finlJzn8SI-1"
      },
      "source": [
        "Now test your results with the following unit tests. Passing each test will be awarded with **1 mark**."
      ],
      "id": "finlJzn8SI-1"
    },
    {
      "cell_type": "code",
      "execution_count": null,
      "metadata": {
        "ExecuteTime": {
          "end_time": "2021-12-24T15:19:32.609991Z",
          "start_time": "2021-12-24T15:19:32.592116Z"
        },
        "deletable": false,
        "editable": false,
        "nbgrader": {
          "cell_type": "code",
          "checksum": "aa463d6fc30b098f3e3d53f2f74a505c",
          "grade": true,
          "grade_id": "Q2MultinomialClassificationTest1",
          "locked": true,
          "points": 1,
          "schema_version": 3,
          "solution": false,
          "task": false
        },
        "id": "KhvmDabzSI-1",
        "outputId": "7d33d8d8-eabf-4616-f084-68530ca1f39c"
      },
      "outputs": [
        {
          "ename": "AssertionError",
          "evalue": "\nArrays are not almost equal to 7 decimals\n ACTUAL: 6.5865415539496635\n DESIRED: 6.581158794776621",
          "output_type": "error",
          "traceback": [
            "\u001b[1;31m---------------------------------------------------------------------------\u001b[0m",
            "\u001b[1;31mAssertionError\u001b[0m                            Traceback (most recent call last)",
            "\u001b[1;32m~\\AppData\\Local\\Temp/ipykernel_16796/1100798746.py\u001b[0m in \u001b[0;36m<module>\u001b[1;34m\u001b[0m\n\u001b[1;32m----> 1\u001b[1;33m np.testing.assert_almost_equal(np.linalg.norm(GTZAN_optimal_weights),\n\u001b[0m\u001b[0;32m      2\u001b[0m                                6.581158794776621)\n",
            "\u001b[1;32mE:\\anaconda3\\lib\\site-packages\\numpy\\testing\\_private\\utils.py\u001b[0m in \u001b[0;36massert_almost_equal\u001b[1;34m(actual, desired, decimal, err_msg, verbose)\u001b[0m\n\u001b[0;32m    595\u001b[0m         \u001b[1;32mpass\u001b[0m\u001b[1;33m\u001b[0m\u001b[1;33m\u001b[0m\u001b[0m\n\u001b[0;32m    596\u001b[0m     \u001b[1;32mif\u001b[0m \u001b[0mabs\u001b[0m\u001b[1;33m(\u001b[0m\u001b[0mdesired\u001b[0m \u001b[1;33m-\u001b[0m \u001b[0mactual\u001b[0m\u001b[1;33m)\u001b[0m \u001b[1;33m>=\u001b[0m \u001b[1;36m1.5\u001b[0m \u001b[1;33m*\u001b[0m \u001b[1;36m10.0\u001b[0m\u001b[1;33m**\u001b[0m\u001b[1;33m(\u001b[0m\u001b[1;33m-\u001b[0m\u001b[0mdecimal\u001b[0m\u001b[1;33m)\u001b[0m\u001b[1;33m:\u001b[0m\u001b[1;33m\u001b[0m\u001b[1;33m\u001b[0m\u001b[0m\n\u001b[1;32m--> 597\u001b[1;33m         \u001b[1;32mraise\u001b[0m \u001b[0mAssertionError\u001b[0m\u001b[1;33m(\u001b[0m\u001b[0m_build_err_msg\u001b[0m\u001b[1;33m(\u001b[0m\u001b[1;33m)\u001b[0m\u001b[1;33m)\u001b[0m\u001b[1;33m\u001b[0m\u001b[1;33m\u001b[0m\u001b[0m\n\u001b[0m\u001b[0;32m    598\u001b[0m \u001b[1;33m\u001b[0m\u001b[0m\n\u001b[0;32m    599\u001b[0m \u001b[1;33m\u001b[0m\u001b[0m\n",
            "\u001b[1;31mAssertionError\u001b[0m: \nArrays are not almost equal to 7 decimals\n ACTUAL: 6.5865415539496635\n DESIRED: 6.581158794776621"
          ]
        }
      ],
      "source": [
        "np.testing.assert_almost_equal(np.linalg.norm(GTZAN_optimal_weights),\n",
        "                               6.581158794776621)"
      ],
      "id": "KhvmDabzSI-1"
    },
    {
      "cell_type": "code",
      "execution_count": null,
      "metadata": {
        "ExecuteTime": {
          "end_time": "2021-12-24T15:19:32.642982Z",
          "start_time": "2021-12-24T15:19:32.619963Z"
        },
        "deletable": false,
        "editable": false,
        "nbgrader": {
          "cell_type": "code",
          "checksum": "9d00f728a1705e713edf4cd0a9ff600b",
          "grade": true,
          "grade_id": "Q2MultinomialClassificationTest2",
          "locked": true,
          "points": 1,
          "schema_version": 3,
          "solution": false,
          "task": false
        },
        "id": "UGwIln4kSI-2",
        "outputId": "7ec0377c-0b7e-4f56-bdeb-a90cf91440de"
      },
      "outputs": [
        {
          "ename": "AssertionError",
          "evalue": "\nArrays are not almost equal to 7 decimals\n ACTUAL: 0.618160014942793\n DESIRED: 0.6184412193103139",
          "output_type": "error",
          "traceback": [
            "\u001b[1;31m---------------------------------------------------------------------------\u001b[0m",
            "\u001b[1;31mAssertionError\u001b[0m                            Traceback (most recent call last)",
            "\u001b[1;32m~\\AppData\\Local\\Temp/ipykernel_16796/562630503.py\u001b[0m in \u001b[0;36m<module>\u001b[1;34m\u001b[0m\n\u001b[1;32m----> 1\u001b[1;33m \u001b[0mnp\u001b[0m\u001b[1;33m.\u001b[0m\u001b[0mtesting\u001b[0m\u001b[1;33m.\u001b[0m\u001b[0massert_almost_equal\u001b[0m\u001b[1;33m(\u001b[0m\u001b[0mGTZAN_objective_values\u001b[0m\u001b[1;33m[\u001b[0m\u001b[1;33m-\u001b[0m\u001b[1;36m1\u001b[0m\u001b[1;33m]\u001b[0m\u001b[1;33m,\u001b[0m \u001b[1;36m0.6184412193103139\u001b[0m\u001b[1;33m)\u001b[0m\u001b[1;33m\u001b[0m\u001b[1;33m\u001b[0m\u001b[0m\n\u001b[0m",
            "\u001b[1;32mE:\\anaconda3\\lib\\site-packages\\numpy\\testing\\_private\\utils.py\u001b[0m in \u001b[0;36massert_almost_equal\u001b[1;34m(actual, desired, decimal, err_msg, verbose)\u001b[0m\n\u001b[0;32m    595\u001b[0m         \u001b[1;32mpass\u001b[0m\u001b[1;33m\u001b[0m\u001b[1;33m\u001b[0m\u001b[0m\n\u001b[0;32m    596\u001b[0m     \u001b[1;32mif\u001b[0m \u001b[0mabs\u001b[0m\u001b[1;33m(\u001b[0m\u001b[0mdesired\u001b[0m \u001b[1;33m-\u001b[0m \u001b[0mactual\u001b[0m\u001b[1;33m)\u001b[0m \u001b[1;33m>=\u001b[0m \u001b[1;36m1.5\u001b[0m \u001b[1;33m*\u001b[0m \u001b[1;36m10.0\u001b[0m\u001b[1;33m**\u001b[0m\u001b[1;33m(\u001b[0m\u001b[1;33m-\u001b[0m\u001b[0mdecimal\u001b[0m\u001b[1;33m)\u001b[0m\u001b[1;33m:\u001b[0m\u001b[1;33m\u001b[0m\u001b[1;33m\u001b[0m\u001b[0m\n\u001b[1;32m--> 597\u001b[1;33m         \u001b[1;32mraise\u001b[0m \u001b[0mAssertionError\u001b[0m\u001b[1;33m(\u001b[0m\u001b[0m_build_err_msg\u001b[0m\u001b[1;33m(\u001b[0m\u001b[1;33m)\u001b[0m\u001b[1;33m)\u001b[0m\u001b[1;33m\u001b[0m\u001b[1;33m\u001b[0m\u001b[0m\n\u001b[0m\u001b[0;32m    598\u001b[0m \u001b[1;33m\u001b[0m\u001b[0m\n\u001b[0;32m    599\u001b[0m \u001b[1;33m\u001b[0m\u001b[0m\n",
            "\u001b[1;31mAssertionError\u001b[0m: \nArrays are not almost equal to 7 decimals\n ACTUAL: 0.618160014942793\n DESIRED: 0.6184412193103139"
          ]
        }
      ],
      "source": [
        "np.testing.assert_almost_equal(GTZAN_objective_values[-1], 0.6184412193103139)"
      ],
      "id": "UGwIln4kSI-2"
    },
    {
      "cell_type": "code",
      "execution_count": null,
      "metadata": {
        "ExecuteTime": {
          "end_time": "2021-12-24T15:19:32.684791Z",
          "start_time": "2021-12-24T15:19:32.651879Z"
        },
        "deletable": false,
        "editable": false,
        "nbgrader": {
          "cell_type": "code",
          "checksum": "eb5b37be4c37f7db3deb0fed56fac571",
          "grade": false,
          "grade_id": "Q2MultinomialClassificationSolution2",
          "locked": true,
          "schema_version": 3,
          "solution": false,
          "task": false
        },
        "id": "hsAoJn-MSI-2",
        "outputId": "d79eea43-21ef-4bc1-a5ce-37534129623a"
      },
      "outputs": [
        {
          "name": "stdout",
          "output_type": "stream",
          "text": [
            "The classification accuracy for the GTZAN dataset is 81.89999999999999 %.\n"
          ]
        }
      ],
      "source": [
        "GTZAN_recovered_labels = multinomial_prediction_function(GTZAN_data_matrix, \\\n",
        "                                                         GTZAN_optimal_weights)\n",
        "GTZAN_classification_accuracy = classification_accuracy(\n",
        "    GTZAN_labels, GTZAN_recovered_labels)\n",
        "print(\"The classification accuracy for the GTZAN dataset is {p} %.\".format(\n",
        "    p=100 * GTZAN_classification_accuracy))"
      ],
      "id": "hsAoJn-MSI-2"
    },
    {
      "cell_type": "code",
      "execution_count": null,
      "metadata": {
        "ExecuteTime": {
          "end_time": "2021-12-24T15:19:32.715785Z",
          "start_time": "2021-12-24T15:19:32.689777Z"
        },
        "deletable": false,
        "editable": false,
        "nbgrader": {
          "cell_type": "code",
          "checksum": "c13ade71349817ae9aca0d9509a62eb5",
          "grade": true,
          "grade_id": "Q2MultinomialClassificationTest3",
          "locked": true,
          "points": 1,
          "schema_version": 3,
          "solution": false,
          "task": false
        },
        "id": "RlLU9AGXSI-2"
      },
      "outputs": [],
      "source": [
        "np.testing.assert_almost_equal(GTZAN_classification_accuracy, 0.819)"
      ],
      "id": "RlLU9AGXSI-2"
    },
    {
      "cell_type": "markdown",
      "metadata": {
        "deletable": false,
        "editable": false,
        "nbgrader": {
          "cell_type": "markdown",
          "checksum": "691be4966e31c1c69e506c5f28017571",
          "grade": false,
          "grade_id": "cell-Q2LASSO",
          "locked": true,
          "schema_version": 3,
          "solution": false,
          "task": false
        },
        "id": "0_fFmW43SI-3"
      },
      "source": [
        "### Question 2b [7 marks]\n",
        "As a final exercise before you are left to continue with the main part of your project of classifying\n",
        "spoken digits, implement a modification of the multinomial logistic regression problem that\n",
        "contains a positive multiple of the one-norm of the weight matrix as regularisation term, and\n",
        "approximate a solution numerically with the proximal gradient descent method as introduced in\n",
        "the lectures. "
      ],
      "id": "0_fFmW43SI-3"
    },
    {
      "cell_type": "markdown",
      "metadata": {
        "deletable": false,
        "editable": false,
        "nbgrader": {
          "cell_type": "markdown",
          "checksum": "e7d8eb274d2e54854c5e74db1c22a223",
          "grade": false,
          "grade_id": "cell-Q2LASSOFunctions",
          "locked": true,
          "schema_version": 3,
          "solution": false,
          "task": false
        },
        "id": "HEFgBYZpSI-3"
      },
      "source": [
        "Begin by completing the following three functions. \n",
        "- The function $\\mathtt{soft\\_thresholding}$ takes the\n",
        "two arguments *argument* and *threshold* and returns the solution of the soft-thresholding operation\n",
        "applied to *argument* with threshold *threshold*.\n",
        "- The function $\\mathtt{lasso\\_logistic\\_regression\\_cost\\_function}$ is supposed to implement the multinomial\n",
        "logistic regression loss with additional one-norm regularisation of weights for data\n",
        "matrix *data_matrix*, weight matrix *weight_matrix*, the one hot vector encoding of labels \n",
        "*one_hot_vector_encodings* and the regularisation parameter *regularisation_parameter*.\n",
        "- The function $\\mathtt{proximal\\_gradient\\_descent}$ takes the same arguments as the function $\\mathtt{gradient\\_descent}$, with additional argument $\\mathtt{proximal\\_map}$ in order to specify the proximal map to be used."
      ],
      "id": "HEFgBYZpSI-3"
    },
    {
      "cell_type": "code",
      "execution_count": null,
      "metadata": {
        "ExecuteTime": {
          "end_time": "2021-12-24T15:19:32.731666Z",
          "start_time": "2021-12-24T15:19:32.719720Z"
        },
        "deletable": false,
        "nbgrader": {
          "cell_type": "code",
          "checksum": "f382d82160f1b3af201498adbf95352b",
          "grade": false,
          "grade_id": "cell-Q2LASSOSolution1",
          "locked": false,
          "schema_version": 3,
          "solution": true,
          "task": false
        },
        "id": "It1cRYUeSI-3"
      },
      "outputs": [],
      "source": [
        "def soft_thresholding(argument, threshold):\n",
        "    # YOUR CODE HERE\n",
        "    return np.sign(argument) * np.maximum(0, np.abs(argument) - threshold)\n",
        "    raise NotImplementedError()"
      ],
      "id": "It1cRYUeSI-3"
    },
    {
      "cell_type": "code",
      "execution_count": null,
      "metadata": {
        "ExecuteTime": {
          "end_time": "2021-12-24T15:21:00.971591Z",
          "start_time": "2021-12-24T15:21:00.962582Z"
        },
        "deletable": false,
        "nbgrader": {
          "cell_type": "code",
          "checksum": "9eb3088dfe88e92c8d79ac1bc649eede",
          "grade": false,
          "grade_id": "cell-Q2LASSOSolution2",
          "locked": false,
          "schema_version": 3,
          "solution": true,
          "task": false
        },
        "id": "iiYB4V2hSI-4"
      },
      "outputs": [],
      "source": [
        "def lasso_logistic_regression_cost_function(data_matrix, weight_matrix,\n",
        "                                            one_hot_vector_encodings,\n",
        "                                            regularisation_parameter):\n",
        "    # YOUR CODE HERE\n",
        "    model_evaluation = model_function(data_matrix, weight_matrix)\n",
        "    return (np.sum(np.log(np.sum(np.exp(model_evaluation), axis=1)) - np.sum(one_hot_vector_encodings * \\\n",
        "    model_evaluation, axis=1)))/data_matrix.shape[0] + regularisation_parameter * np.sum(np.abs(weight_matrix))\n",
        "    raise NotImplementedError()"
      ],
      "id": "iiYB4V2hSI-4"
    },
    {
      "cell_type": "code",
      "execution_count": null,
      "metadata": {
        "ExecuteTime": {
          "end_time": "2021-12-24T15:21:03.307447Z",
          "start_time": "2021-12-24T15:21:03.293449Z"
        },
        "deletable": false,
        "nbgrader": {
          "cell_type": "code",
          "checksum": "bb502bf713437946c1532dd9fc6c7515",
          "grade": false,
          "grade_id": "cell-Q2LASSOSolution3",
          "locked": false,
          "schema_version": 3,
          "solution": true,
          "task": false
        },
        "id": "qeaHMNJISI-4"
      },
      "outputs": [],
      "source": [
        "def proximal_gradient_descent(objective,\n",
        "                              gradient,\n",
        "                              proximal_map,\n",
        "                              initial_weights,\n",
        "                              step_size=1,\n",
        "                              no_of_iterations=1000,\n",
        "                              print_output=100):\n",
        "    # YOUR CODE HERE\n",
        "    objective_values = []\n",
        "    weights = initial_weights\n",
        "    objective_values.append(objective(weights))\n",
        "    for counter in range(no_of_iterations):\n",
        "        weights = proximal_map(weights - step_size * gradient(weights))\n",
        "        objective_values.append(objective(weights))\n",
        "        if (counter + 1) % print_output == 0:\n",
        "            print(\"Iteration {k}/{m}, objective = {o}.\".format(k=counter+1, \\\n",
        "            m=no_of_iterations, o=objective_values[counter]))\n",
        "            print(\"Iteration completed after {k}/{m}, objective = {o}.\".format(k=counter + 1, \\\n",
        "            m=no_of_iterations, o=objective_values[counter]))\n",
        "    return weights, objective_values\n",
        "    raise NotImplementedError()"
      ],
      "id": "qeaHMNJISI-4"
    },
    {
      "cell_type": "markdown",
      "metadata": {
        "deletable": false,
        "editable": false,
        "nbgrader": {
          "cell_type": "markdown",
          "checksum": "363fc6e68dc98174c0e788c2f072c431",
          "grade": false,
          "grade_id": "cell-Q2LASSOFunctionsmarking",
          "locked": true,
          "schema_version": 3,
          "solution": false,
          "task": false
        },
        "id": "7Uh8vQkDSI-4"
      },
      "source": [
        "Now test your functions with the following unit tests. Passing each test will be awarded with **1 mark**."
      ],
      "id": "7Uh8vQkDSI-4"
    },
    {
      "cell_type": "code",
      "execution_count": null,
      "metadata": {
        "ExecuteTime": {
          "end_time": "2021-12-24T15:21:50.171526Z",
          "start_time": "2021-12-24T15:21:50.151499Z"
        },
        "deletable": false,
        "editable": false,
        "nbgrader": {
          "cell_type": "code",
          "checksum": "972c678797560d57caa3b87d9d69b518",
          "grade": true,
          "grade_id": "cell-6ae0bed599bf57d1",
          "locked": true,
          "points": 1,
          "schema_version": 3,
          "solution": false,
          "task": false
        },
        "id": "Hx-6Med1SI-4"
      },
      "outputs": [],
      "source": [
        "test_weight_matrix = np.array([[1, 2], [3, -4]])\n",
        "np.testing.assert_array_almost_equal(soft_thresholding(test_weight_matrix, 2),\n",
        "                                     np.array([[0, 0], [1, -2]]))"
      ],
      "id": "Hx-6Med1SI-4"
    },
    {
      "cell_type": "code",
      "execution_count": null,
      "metadata": {
        "ExecuteTime": {
          "end_time": "2021-12-24T15:24:59.930177Z",
          "start_time": "2021-12-24T15:24:59.903521Z"
        },
        "deletable": false,
        "editable": false,
        "nbgrader": {
          "cell_type": "code",
          "checksum": "78936a55e6bb3fbf08d3f8c3ce6ba2a0",
          "grade": true,
          "grade_id": "cell-f1cfc764c5a776d3",
          "locked": true,
          "points": 1,
          "schema_version": 3,
          "solution": false,
          "task": false
        },
        "id": "SxYXy7QTSI-4"
      },
      "outputs": [],
      "source": [
        "test_data_matrix = np.array([[6, 4, 5], [1, 2, 8], [-3, 3, 6], [6, 5, -100],\n",
        "                             [5, 7, 2]])\n",
        "test_weight_matrix = np.array([[2, 1, -2, -4], [2, -5, 1, 4], [-2, -3, -1,\n",
        "                                                               -2]])\n",
        "test_one_hot_vector_encoding = np.array([[1., 0., 0., 0.], [0., 0., 1., 0.],\n",
        "                                         [0., 0., 0., 1.], [0., 1., 0., 0.],\n",
        "                                         [1., 0., 0., 0.]])\n",
        "test_regularisation_parameter = 0.1\n",
        "np.testing.assert_almost_equal(\n",
        "    lasso_logistic_regression_cost_function(test_data_matrix,\n",
        "                                            test_weight_matrix,\n",
        "                                            test_one_hot_vector_encoding,\n",
        "                                            test_regularisation_parameter),\n",
        "    2.9286110286783553)"
      ],
      "id": "SxYXy7QTSI-4"
    },
    {
      "cell_type": "markdown",
      "metadata": {
        "deletable": false,
        "editable": false,
        "nbgrader": {
          "cell_type": "markdown",
          "checksum": "c0c64d729bb9ef481d3c4c157b7196bd",
          "grade": false,
          "grade_id": "cell-Q2LASSOSetup",
          "locked": true,
          "schema_version": 3,
          "solution": false,
          "task": false
        },
        "id": "n6N7kLXfSI-5"
      },
      "source": [
        "In the next cell, define a suitable objective function *GTZAN_LASSO_objective* and a suitable gradient function *GTZAN_LASSO_gradient*, both with argument *weight_matrix* and fixed *data_matrix* (equal to *GTZAN_data_matrix*) and *one_hot_vector_encodings* (equal to *GTZAN_OHV*) from the GTZAN dataset that you have used before, as well as a suitable proximal map function *GTZAN_proximal_map* with correctly chosen threshold. The threshold should be equal to the regularisation parameter multiplied by the gradient descent step-size. Take the step size equal to \n",
        "$$\n",
        "\\tau = \\frac{3.9\\cdot s}{\\left\\|\\mathbf{\\Phi\\left(X\\right)}\\right\\|^2},\n",
        "$$\n",
        "where $s$ is the number of data samples and $\\mathbf{\\Phi\\left(X\\right)}$ is a mathematical representation of the *GTZAN_data_matrix*. Take the regularisation parameter equal to\n",
        "$$\n",
        "\\alpha = 1e-4.\n",
        "$$"
      ],
      "id": "n6N7kLXfSI-5"
    },
    {
      "cell_type": "code",
      "execution_count": null,
      "metadata": {
        "ExecuteTime": {
          "end_time": "2021-12-24T19:59:32.708827Z",
          "start_time": "2021-12-24T19:59:30.381050Z"
        },
        "deletable": false,
        "nbgrader": {
          "cell_type": "code",
          "checksum": "2db86f009e5910c1e7b6fe35004fff99",
          "grade": false,
          "grade_id": "cell-Q2LASSOSolution",
          "locked": false,
          "schema_version": 3,
          "solution": true,
          "task": false
        },
        "id": "3OInN0KkSI-5",
        "outputId": "691be200-7bd8-4d40-a9a7-9d0e9834d8c3"
      },
      "outputs": [
        {
          "name": "stdout",
          "output_type": "stream",
          "text": [
            "The objective function is:  2.201560029228825\n",
            "The objective function is:  1.077613280524218\n",
            "The objective function is:  0.9166114986497832\n",
            "The objective function is:  0.832418458946318\n",
            "The objective function is:  0.7778447533131677\n",
            "The objective function is:  0.7385678832931618\n",
            "The objective function is:  0.7084477593194743\n",
            "The objective function is:  0.6843253257035437\n",
            "The objective function is:  0.6644204493861986\n",
            "The objective function is:  0.6476081891611024\n",
            "The objective function is:  0.6331295210078072\n"
          ]
        }
      ],
      "source": [
        "LASSO_regularisation_parameter = 1e-4\n",
        "# YOUR CODE HERE\n",
        "GTZAN_data_matrix = linear_regression_data(GTZAN_data)\n",
        "GTZAN_OHV = one_hot_vector_encoding(GTZAN_labels)\n",
        "size = GTZAN_data_matrix.shape[1]\n",
        "num_obs = GTZAN_data_matrix.shape[0]\n",
        "clas = GTZAN_OHV.shape[1]\n",
        "GTZAN_initial_weights = np.zeros((size,10))\n",
        "\n",
        "objective = lambda x: lasso_logistic_regression_cost_function(GTZAN_data_matrix, x, GTZAN_OHV, LASSO_regularisation_parameter)\n",
        "\n",
        "gradient = lambda x: multinomial_logistic_regression_gradient(GTZAN_data_matrix, x, GTZAN_OHV) + LASSO_regularisation_parameter*np.sign(x)\n",
        "\n",
        "step_size = (3.9*num_obs)/np.linalg.norm(GTZAN_data_matrix)**2\n",
        "\n",
        "\n",
        "GTZAN_LASSO_optimal_weights, GTZAN_LASSO_objective_values = gradient_descent_v2(objective, gradient, GTZAN_initial_weights, \\\n",
        "                    step_size, no_of_iterations=1000, print_output=100, tolerance=1e-3)\n",
        "# raise NotImplementedError()"
      ],
      "id": "3OInN0KkSI-5"
    },
    {
      "cell_type": "markdown",
      "metadata": {
        "deletable": false,
        "editable": false,
        "nbgrader": {
          "cell_type": "markdown",
          "checksum": "e07b416f414cdcbaf72a1d45698158d8",
          "grade": false,
          "grade_id": "cell-Q2LASSOMarking",
          "locked": true,
          "schema_version": 3,
          "solution": false,
          "task": false
        },
        "id": "I2uMA-gjSI-5"
      },
      "source": [
        "Now test your results with the following unit tests. Passing each test will be awarded with **1 mark**."
      ],
      "id": "I2uMA-gjSI-5"
    },
    {
      "cell_type": "markdown",
      "metadata": {
        "id": "c4x8EPXmSI-6"
      },
      "source": [
        "### NOTICE!!!\n",
        "The value of objective function and the norms of optimal parameters are quite close that they are the same in the first two digits"
      ],
      "id": "c4x8EPXmSI-6"
    },
    {
      "cell_type": "code",
      "execution_count": null,
      "metadata": {
        "ExecuteTime": {
          "end_time": "2021-12-24T20:01:49.524906Z",
          "start_time": "2021-12-24T20:01:49.510540Z"
        },
        "deletable": false,
        "editable": false,
        "nbgrader": {
          "cell_type": "code",
          "checksum": "141d83db401eba782f4d4d9f7218b1fe",
          "grade": true,
          "grade_id": "cell-Q2LASSOTest1",
          "locked": true,
          "points": 1,
          "schema_version": 3,
          "solution": false,
          "task": false
        },
        "id": "Hl6ZtmT0SI-6",
        "outputId": "3e382874-294c-4b7f-d5ae-faf2c17f6aa0"
      },
      "outputs": [
        {
          "ename": "AssertionError",
          "evalue": "\nArrays are not almost equal to 7 decimals\n ACTUAL: 0.6329946572251856\n DESIRED: 0.6332662161567008",
          "output_type": "error",
          "traceback": [
            "\u001b[1;31m---------------------------------------------------------------------------\u001b[0m",
            "\u001b[1;31mAssertionError\u001b[0m                            Traceback (most recent call last)",
            "\u001b[1;32m~\\AppData\\Local\\Temp/ipykernel_16796/3195594956.py\u001b[0m in \u001b[0;36m<module>\u001b[1;34m\u001b[0m\n\u001b[1;32m----> 1\u001b[1;33m np.testing.assert_almost_equal(GTZAN_LASSO_objective_values[-1],\n\u001b[0m\u001b[0;32m      2\u001b[0m                                0.6332662161567008)\n",
            "\u001b[1;32mE:\\anaconda3\\lib\\site-packages\\numpy\\testing\\_private\\utils.py\u001b[0m in \u001b[0;36massert_almost_equal\u001b[1;34m(actual, desired, decimal, err_msg, verbose)\u001b[0m\n\u001b[0;32m    595\u001b[0m         \u001b[1;32mpass\u001b[0m\u001b[1;33m\u001b[0m\u001b[1;33m\u001b[0m\u001b[0m\n\u001b[0;32m    596\u001b[0m     \u001b[1;32mif\u001b[0m \u001b[0mabs\u001b[0m\u001b[1;33m(\u001b[0m\u001b[0mdesired\u001b[0m \u001b[1;33m-\u001b[0m \u001b[0mactual\u001b[0m\u001b[1;33m)\u001b[0m \u001b[1;33m>=\u001b[0m \u001b[1;36m1.5\u001b[0m \u001b[1;33m*\u001b[0m \u001b[1;36m10.0\u001b[0m\u001b[1;33m**\u001b[0m\u001b[1;33m(\u001b[0m\u001b[1;33m-\u001b[0m\u001b[0mdecimal\u001b[0m\u001b[1;33m)\u001b[0m\u001b[1;33m:\u001b[0m\u001b[1;33m\u001b[0m\u001b[1;33m\u001b[0m\u001b[0m\n\u001b[1;32m--> 597\u001b[1;33m         \u001b[1;32mraise\u001b[0m \u001b[0mAssertionError\u001b[0m\u001b[1;33m(\u001b[0m\u001b[0m_build_err_msg\u001b[0m\u001b[1;33m(\u001b[0m\u001b[1;33m)\u001b[0m\u001b[1;33m)\u001b[0m\u001b[1;33m\u001b[0m\u001b[1;33m\u001b[0m\u001b[0m\n\u001b[0m\u001b[0;32m    598\u001b[0m \u001b[1;33m\u001b[0m\u001b[0m\n\u001b[0;32m    599\u001b[0m \u001b[1;33m\u001b[0m\u001b[0m\n",
            "\u001b[1;31mAssertionError\u001b[0m: \nArrays are not almost equal to 7 decimals\n ACTUAL: 0.6329946572251856\n DESIRED: 0.6332662161567008"
          ]
        }
      ],
      "source": [
        "np.testing.assert_almost_equal(GTZAN_LASSO_objective_values[-1],\n",
        "                               0.6332662161567008)"
      ],
      "id": "Hl6ZtmT0SI-6"
    },
    {
      "cell_type": "code",
      "execution_count": null,
      "metadata": {
        "ExecuteTime": {
          "end_time": "2021-12-24T20:01:58.505215Z",
          "start_time": "2021-12-24T20:01:58.490254Z"
        },
        "deletable": false,
        "editable": false,
        "nbgrader": {
          "cell_type": "code",
          "checksum": "fa0b53edc441d909baddf5c5e2ce1e24",
          "grade": true,
          "grade_id": "cell-Q2LASSOTest2",
          "locked": true,
          "points": 1,
          "schema_version": 3,
          "solution": false,
          "task": false
        },
        "id": "1qGkPZpISI-7",
        "outputId": "b44b4bc5-0ad1-4136-878c-01e113d663fe"
      },
      "outputs": [
        {
          "ename": "AssertionError",
          "evalue": "\nArrays are not almost equal to 7 decimals\n ACTUAL: 6.526454014082769\n DESIRED: 6.521161728885989",
          "output_type": "error",
          "traceback": [
            "\u001b[1;31m---------------------------------------------------------------------------\u001b[0m",
            "\u001b[1;31mAssertionError\u001b[0m                            Traceback (most recent call last)",
            "\u001b[1;32m~\\AppData\\Local\\Temp/ipykernel_16796/2896698904.py\u001b[0m in \u001b[0;36m<module>\u001b[1;34m\u001b[0m\n\u001b[1;32m----> 1\u001b[1;33m np.testing.assert_almost_equal(np.linalg.norm(GTZAN_LASSO_optimal_weights),\n\u001b[0m\u001b[0;32m      2\u001b[0m                                6.521161728885989)\n",
            "\u001b[1;32mE:\\anaconda3\\lib\\site-packages\\numpy\\testing\\_private\\utils.py\u001b[0m in \u001b[0;36massert_almost_equal\u001b[1;34m(actual, desired, decimal, err_msg, verbose)\u001b[0m\n\u001b[0;32m    595\u001b[0m         \u001b[1;32mpass\u001b[0m\u001b[1;33m\u001b[0m\u001b[1;33m\u001b[0m\u001b[0m\n\u001b[0;32m    596\u001b[0m     \u001b[1;32mif\u001b[0m \u001b[0mabs\u001b[0m\u001b[1;33m(\u001b[0m\u001b[0mdesired\u001b[0m \u001b[1;33m-\u001b[0m \u001b[0mactual\u001b[0m\u001b[1;33m)\u001b[0m \u001b[1;33m>=\u001b[0m \u001b[1;36m1.5\u001b[0m \u001b[1;33m*\u001b[0m \u001b[1;36m10.0\u001b[0m\u001b[1;33m**\u001b[0m\u001b[1;33m(\u001b[0m\u001b[1;33m-\u001b[0m\u001b[0mdecimal\u001b[0m\u001b[1;33m)\u001b[0m\u001b[1;33m:\u001b[0m\u001b[1;33m\u001b[0m\u001b[1;33m\u001b[0m\u001b[0m\n\u001b[1;32m--> 597\u001b[1;33m         \u001b[1;32mraise\u001b[0m \u001b[0mAssertionError\u001b[0m\u001b[1;33m(\u001b[0m\u001b[0m_build_err_msg\u001b[0m\u001b[1;33m(\u001b[0m\u001b[1;33m)\u001b[0m\u001b[1;33m)\u001b[0m\u001b[1;33m\u001b[0m\u001b[1;33m\u001b[0m\u001b[0m\n\u001b[0m\u001b[0;32m    598\u001b[0m \u001b[1;33m\u001b[0m\u001b[0m\n\u001b[0;32m    599\u001b[0m \u001b[1;33m\u001b[0m\u001b[0m\n",
            "\u001b[1;31mAssertionError\u001b[0m: \nArrays are not almost equal to 7 decimals\n ACTUAL: 6.526454014082769\n DESIRED: 6.521161728885989"
          ]
        }
      ],
      "source": [
        "np.testing.assert_almost_equal(np.linalg.norm(GTZAN_LASSO_optimal_weights),\n",
        "                               6.521161728885989)"
      ],
      "id": "1qGkPZpISI-7"
    },
    {
      "cell_type": "code",
      "execution_count": null,
      "metadata": {
        "ExecuteTime": {
          "end_time": "2021-12-24T16:54:07.143236Z",
          "start_time": "2021-12-24T16:54:07.131177Z"
        },
        "deletable": false,
        "nbgrader": {
          "cell_type": "code",
          "checksum": "5fa3cc2fd2fdb4de468ea019d2e8c614",
          "grade": false,
          "grade_id": "cell-Q2LASSOResults",
          "locked": false,
          "schema_version": 3,
          "solution": true,
          "task": false
        },
        "id": "ReieSQgXSI-7",
        "outputId": "37199dba-d2ed-40d8-a565-7e2578029a7e"
      },
      "outputs": [
        {
          "name": "stdout",
          "output_type": "stream",
          "text": [
            "The classification accuracy for the GTZAN dataset is 81.89999999999999 %.\n"
          ]
        }
      ],
      "source": [
        "# YOUR CODE HERE\n",
        "GTZAN_recovered_labels = multinomial_prediction_function(GTZAN_data_matrix, \\\n",
        "                                                         GTZAN_LASSO_optimal_weights)\n",
        "GTZAN_LASSO_classification_accuracy = classification_accuracy(\n",
        "    GTZAN_labels, GTZAN_recovered_labels)\n",
        "print(\"The classification accuracy for the GTZAN dataset is {p} %.\".format(\n",
        "    p=100 * GTZAN_classification_accuracy))\n",
        "# raise NotImplementedError()"
      ],
      "id": "ReieSQgXSI-7"
    },
    {
      "cell_type": "markdown",
      "metadata": {
        "deletable": false,
        "editable": false,
        "nbgrader": {
          "cell_type": "markdown",
          "checksum": "9c6d3c11cd92f55671bae636d26455af",
          "grade": false,
          "grade_id": "cell-Q2LASSOTest3Marking",
          "locked": true,
          "schema_version": 3,
          "solution": false,
          "task": false
        },
        "id": "WUG2oVX0SI-8"
      },
      "source": [
        "The correct classification accuracy is awarded **3 marks**."
      ],
      "id": "WUG2oVX0SI-8"
    },
    {
      "cell_type": "code",
      "execution_count": null,
      "metadata": {
        "ExecuteTime": {
          "end_time": "2021-12-24T20:04:58.118176Z",
          "start_time": "2021-12-24T20:04:58.037396Z"
        },
        "deletable": false,
        "editable": false,
        "nbgrader": {
          "cell_type": "code",
          "checksum": "1bbd0805a831ddb39f2766959a773965",
          "grade": true,
          "grade_id": "cell-Q2LASSOTest3",
          "locked": true,
          "points": 3,
          "schema_version": 3,
          "solution": false,
          "task": false
        },
        "id": "Y_ycHf_MSI-8"
      },
      "outputs": [],
      "source": [
        "### HIDDEN TEST\n",
        "### BEGIN HIDDEN TEST\n",
        "np.testing.assert_array_almost_equal(GTZAN_LASSO_classification_accuracy,\n",
        "                                     0.819)\n",
        "### END HIDDEN TEST"
      ],
      "id": "Y_ycHf_MSI-8"
    },
    {
      "cell_type": "code",
      "execution_count": null,
      "metadata": {
        "scrolled": true,
        "id": "8lyopinfSI-8",
        "outputId": "d9ca542a-354e-42bd-d9b9-f1bdb52a8bcd"
      },
      "outputs": [
        {
          "data": {
            "text/plain": [
              "<matplotlib.legend.Legend at 0x204f3f57670>"
            ]
          },
          "execution_count": 74,
          "metadata": {},
          "output_type": "execute_result"
        },
        {
          "data": {
            "image/png": "[encoded data removed]",
            "text/plain": [
              "<Figure size 432x288 with 1 Axes>"
            ]
          },
          "metadata": {
            "needs_background": "light"
          },
          "output_type": "display_data"
        }
      ],
      "source": [
        "import matplotlib.pyplot as plt\n",
        "objective = [i for i in GTZAN_LASSO_objective_values]\n",
        "plt.plot(objective, label='LASSO')\n",
        "objective = [i for i in GTZAN_objective_values]\n",
        "plt.plot(objective, label = 'Non-restricted')\n",
        "plt.xlabel('Number of Iteration')\n",
        "plt.ylabel('Value of Cost function')\n",
        "plt.title('Gradient Descent on GTZAN')\n",
        "plt.legend()"
      ],
      "id": "8lyopinfSI-8"
    },
    {
      "cell_type": "markdown",
      "metadata": {
        "deletable": false,
        "editable": false,
        "heading_collapsed": true,
        "nbgrader": {
          "cell_type": "markdown",
          "checksum": "b0361f750f04a80b0f110dd32cbbff71",
          "grade": false,
          "grade_id": "cell-ebbe47193fc775ea",
          "locked": true,
          "schema_version": 3,
          "solution": false,
          "task": false
        },
        "id": "bix6DGs5SI-9"
      },
      "source": [
        "## Problem 3: Spoken digit classification"
      ],
      "id": "bix6DGs5SI-9"
    },
    {
      "cell_type": "markdown",
      "metadata": {
        "deletable": false,
        "editable": false,
        "hidden": true,
        "nbgrader": {
          "cell_type": "markdown",
          "checksum": "2ad4c0b492b3b273e15f673b2cf8ce01",
          "grade": false,
          "grade_id": "cell-Q3Info",
          "locked": true,
          "schema_version": 3,
          "solution": false,
          "task": false
        },
        "id": "EoSNNg40SI-9"
      },
      "source": [
        "This completes the first part of the assessment. From now on, you can use all concepts that you\n",
        "have learned throughout this module in order to obtain a classifier that can determine which digit\n",
        "is heard in an audio file. While you are allowed to use different libraries for visualisation/audio files manipulations purposes, you can only use NumPy to program your classifier; tools from libraries such as **SciPy/SciKit-learn/Keras/PyTorch etc. are not allowed**. However, you may wish to use such libraries as **Librosa, python_speech_features**, etc for audio files manipulation. Please note that your classfier will be tested and compared with classifiers from other students. Experimenting with differnt model approaches, regularisation models & parameters and hyperparameter-tuning strategies such as cross validation is therefore highly recommended.\n",
        "\n",
        "**The dataset structure**: the dataset consists of recordings of spoken digits in **.wav** files at $8$kHz. The recordings are trimmed so that they have near minimal silence at the beginnings and ends. There are $6$ different speakers who pronounce each digit from $0$ to $9$ for $50$ times. Each audio file has a name of the form $\\left\\{digit\\right\\}\\_\\left\\{speaker\\,\\,name\\right\\}\\_\\left\\{attempt\\,\\,number\\right\\}.wav$. The data is split into training and validation sets with the ratio $80:20$.\n",
        "\n",
        "There are many ways of representing/visualising the audio data and here in the project we will work with a spectral characteristic known as mel-frequency cepstral coefficients (MFCC) (see [Wikipedia](https://en.wikipedia.org/wiki/Mel-frequency_cepstrum) for details). As we will see later this can be treated as an pixel image.\n",
        "\n",
        "We begin by loading the Audio MNIST training dataset that is taken from this [source](https://github.com/Jakobovski/free-spoken-digit-dataset):"
      ],
      "id": "EoSNNg40SI-9"
    },
    {
      "cell_type": "code",
      "execution_count": null,
      "metadata": {
        "ExecuteTime": {
          "end_time": "2021-12-24T13:24:42.670292Z",
          "start_time": "2021-12-24T13:24:36.399243Z"
        },
        "deletable": false,
        "editable": false,
        "hidden": true,
        "nbgrader": {
          "cell_type": "code",
          "checksum": "4635a0b1bfb7deb73bb8ddaf9323bb73",
          "grade": false,
          "grade_id": "cell-Q3DataLoad",
          "locked": true,
          "schema_version": 3,
          "solution": false,
          "task": false
        },
        "id": "Q7MPsTRtSI-9"
      },
      "outputs": [],
      "source": [
        "audio_mnist_training_mfccs = np.genfromtxt(\n",
        "    'AudioMNIST/MFCC/Training/training_mfccs.txt')\n",
        "audio_mnist_training_labels = np.genfromtxt(\n",
        "    'AudioMNIST/MFCC/Training/training_labels.txt').reshape(-1, 1)"
      ],
      "id": "Q7MPsTRtSI-9"
    },
    {
      "cell_type": "markdown",
      "metadata": {
        "deletable": false,
        "editable": false,
        "hidden": true,
        "nbgrader": {
          "cell_type": "markdown",
          "checksum": "20e06c99af6a706ea6ce6be788b7f576",
          "grade": false,
          "grade_id": "cell-Q3DataInfo",
          "locked": true,
          "schema_version": 3,
          "solution": false,
          "task": false
        },
        "id": "1zhYTdQhSI-9"
      },
      "source": [
        "**Remark:** Please note that the corresponding data folder contains two types of data:\n",
        "- raw audio files (folder Audio)\n",
        "- audio files Mel-frequency cepstral coefficients (folder MFCC) saved in txt file\n",
        "\n",
        "In the above we use Mel-frequency cepstral coefficients as the data representation of audio. You are allowed to use alternative representations if you wish. If you do so, please comment in your report on why have you selected another model and what have you achieved by doing that."
      ],
      "id": "1zhYTdQhSI-9"
    },
    {
      "cell_type": "markdown",
      "metadata": {
        "deletable": false,
        "editable": false,
        "hidden": true,
        "nbgrader": {
          "cell_type": "markdown",
          "checksum": "e2b64ad258c73bd8f727914e630c525f",
          "grade": false,
          "grade_id": "cell-Q3Demostration",
          "locked": true,
          "schema_version": 3,
          "solution": false,
          "task": false
        },
        "id": "eZAJohrwSI--"
      },
      "source": [
        "Below we take a random element of a training data and demonstrate how the MFCC can be visualised."
      ],
      "id": "eZAJohrwSI--"
    },
    {
      "cell_type": "code",
      "execution_count": null,
      "metadata": {
        "ExecuteTime": {
          "end_time": "2021-12-24T13:28:35.048413Z",
          "start_time": "2021-12-24T13:28:34.495690Z"
        },
        "deletable": false,
        "editable": false,
        "hidden": true,
        "nbgrader": {
          "cell_type": "code",
          "checksum": "8e95213d81c32cc8b761fccc40fc8663",
          "grade": false,
          "grade_id": "cell-Q3DemostrationPlot",
          "locked": true,
          "schema_version": 3,
          "solution": false,
          "task": false
        },
        "id": "RNrqcBUISI--",
        "outputId": "1c325930-a3ee-4cca-be68-29553b98f6bb"
      },
      "outputs": [
        {
          "name": "stdout",
          "output_type": "stream",
          "text": [
            "The Audio MNIST training set contains 2400 samples with 900 MFC coefficients each.\n"
          ]
        },
        {
          "data": {
            "text/plain": [
              "<function matplotlib.pyplot.tight_layout(*, pad=1.08, h_pad=None, w_pad=None, rect=None)>"
            ]
          },
          "execution_count": 76,
          "metadata": {},
          "output_type": "execute_result"
        },
        {
          "data": {
            "image/png": "[encoded data removed]",
            "text/plain": [
              "<Figure size 432x288 with 1 Axes>"
            ]
          },
          "metadata": {
            "needs_background": "light"
          },
          "output_type": "display_data"
        }
      ],
      "source": [
        "print(\"The Audio MNIST training set contains {s} samples with {p} MFC coefficients each.\".format(s = audio_mnist_training_mfccs.shape[0], \\\n",
        "        p = audio_mnist_training_mfccs.shape[1]))\n",
        "\n",
        "item_number = np.random.randint(low=0, high=2400)\n",
        "\n",
        "plt.imshow(audio_mnist_training_mfccs[item_number].reshape(30, 30), cmap='hot')\n",
        "plt.title(\"This is the {n}th audio sample of the Audio MNIST training set. The corresponding label is {l}\".format( \\\n",
        "            n= item_number, l=int(audio_mnist_training_labels[item_number][0])))\n",
        "plt.tight_layout"
      ],
      "id": "RNrqcBUISI--"
    },
    {
      "cell_type": "markdown",
      "metadata": {
        "deletable": false,
        "editable": false,
        "hidden": true,
        "nbgrader": {
          "cell_type": "markdown",
          "checksum": "ccb2879e7e27d4259fc388f88a6c9e2f",
          "grade": false,
          "grade_id": "cell-Q3CodeInfo1",
          "locked": true,
          "schema_version": 3,
          "solution": false,
          "task": false
        },
        "id": "dOxZuUItSI-_"
      },
      "source": [
        "Use the following space to write your codes. It should be possible to reproduce results that are shown in your report with the codes that are described here. You can outsource functions into separate files if you find that this tidies up your notebook. Any additional libraries that you want to use (e.g. for visualisations etc.) can be loaded here."
      ],
      "id": "dOxZuUItSI-_"
    },
    {
      "cell_type": "code",
      "execution_count": null,
      "metadata": {
        "ExecuteTime": {
          "end_time": "2021-12-24T13:24:43.335630Z",
          "start_time": "2021-12-24T13:24:43.312389Z"
        },
        "hidden": true,
        "id": "5G7ipYgrSI-_"
      },
      "outputs": [],
      "source": [
        "# Your codes here. Please feel free to create more cells etc."
      ],
      "id": "5G7ipYgrSI-_"
    },
    {
      "cell_type": "code",
      "execution_count": null,
      "metadata": {
        "id": "NOrcUuCcSI-_",
        "outputId": "6e1d9ec1-34d9-4c90-9c7d-923487cc4e20"
      },
      "outputs": [
        {
          "name": "stdout",
          "output_type": "stream",
          "text": [
            "The objective function is:  2.296259659001611\n",
            "The objective function is:  0.65559552688689\n",
            "The objective function is:  0.4584729357938119\n",
            "The objective function is:  0.3684966110209201\n",
            "The objective function is:  0.31426356767359226\n",
            "The objective function is:  0.27703906183087473\n",
            "The objective function is:  0.24948059859789326\n"
          ]
        }
      ],
      "source": [
        "Aumnist_data_matrix = linear_regression_data(audio_mnist_training_mfccs)\n",
        "Aumnist_OHV = one_hot_vector_encoding(audio_mnist_training_labels.T[0].astype('int32'))\n",
        "size = Aumnist_data_matrix.shape[1]\n",
        "num_obs = Aumnist_data_matrix.shape[0]\n",
        "clas = Aumnist_OHV.shape[1]\n",
        "# Aumnist_initial_weights = Aumnist_LASSO_optimal_weights\n",
        "Aumnist_initial_weights = np.zeros((size,clas))\n",
        "\n",
        "objective = lambda x: lasso_logistic_regression_cost_function(Aumnist_data_matrix, x, Aumnist_OHV, \\\n",
        "                                                              LASSO_regularisation_parameter)\n",
        "\n",
        "gradient = lambda x: multinomial_logistic_regression_gradient(Aumnist_data_matrix, x, Aumnist_OHV)+ \\\n",
        "LASSO_regularisation_parameter*np.sign(x)\n",
        "\n",
        "# step_size = 0.0001\n",
        "step_size = (3.9*num_obs)/np.linalg.norm(Aumnist_data_matrix)**2\n",
        "\n",
        "Aumnist_LASSO_optimal_weights, Aumnist_LASSO_objective_values = gradient_descent_v2(objective, gradient, \\\n",
        "                                                                                    Aumnist_initial_weights, \\\n",
        "                                                                                    step_size, no_of_iterations=30000,\\\n",
        "                                                                                    print_output=5000, tolerance=1e-3)"
      ],
      "id": "NOrcUuCcSI-_"
    },
    {
      "cell_type": "markdown",
      "metadata": {
        "deletable": false,
        "editable": false,
        "hidden": true,
        "nbgrader": {
          "cell_type": "markdown",
          "checksum": "82c3807d111e6f50c87b7ae4cb90f853",
          "grade": false,
          "grade_id": "cell-Q3CodeInfo2",
          "locked": true,
          "schema_version": 3,
          "solution": false,
          "task": false
        },
        "id": "trSxk72iSI_A"
      },
      "source": [
        "Specify the code for your best data model (linear, polynomial or else) applied to your best weights\n",
        "and assign the result to the output of the function $\\mathtt{MNIST\\_model\\_function}$. The data model has to be created from the argument *inputs*, which is a two-dimensional array where the first dimension equals the number of samples and the second dimension the dimension of the data (900 in case of Audio MNIST). If, for example, your model is a linear basis model applied to a weight matrix *best_weight_matrix*, then your code could look like:\n",
        "\n",
        "```\n",
        "def MNIST_model_function(inputs):\n",
        "    return linear_regression_data(inputs) @ best_weight_matrix\n",
        "```\n"
      ],
      "id": "trSxk72iSI_A"
    },
    {
      "cell_type": "code",
      "execution_count": null,
      "metadata": {
        "id": "5yUI0jRWSI_A"
      },
      "outputs": [],
      "source": [
        "Aumnist_optimal_weights = Aumnist_LASSO_optimal_weights"
      ],
      "id": "5yUI0jRWSI_A"
    },
    {
      "cell_type": "code",
      "execution_count": null,
      "metadata": {
        "ExecuteTime": {
          "end_time": "2021-12-24T13:27:08.413652Z",
          "start_time": "2021-12-24T13:27:08.378603Z"
        },
        "deletable": false,
        "hidden": true,
        "nbgrader": {
          "cell_type": "code",
          "checksum": "37b8be7793e9f0fe5f6f4348846589e0",
          "grade": false,
          "grade_id": "cell-Q3ModelFunctionSolution",
          "locked": false,
          "schema_version": 3,
          "solution": true,
          "task": false
        },
        "id": "NDhVjra_SI_B"
      },
      "outputs": [],
      "source": [
        "'''Specify your model function. The output has to be a two-dimensional array of size sx1\n",
        "You are not allowed to include additional input arguments.'''\n",
        "def MNIST_model_function(inputs):\n",
        "    # YOUR CODE HERE\n",
        "    labels = multinomial_prediction_function(linear_regression_data(inputs), Aumnist_optimal_weights)\n",
        "    return labels\n",
        "    raise NotImplementedError()"
      ],
      "id": "NDhVjra_SI_B"
    },
    {
      "cell_type": "markdown",
      "metadata": {
        "deletable": false,
        "editable": false,
        "hidden": true,
        "nbgrader": {
          "cell_type": "markdown",
          "checksum": "c8a641a777832e10d4e6e037eb6c72ff",
          "grade": false,
          "grade_id": "cell-Q3ModelFunctionMarking",
          "locked": true,
          "schema_version": 3,
          "solution": false,
          "task": false
        },
        "id": "AlDB9KcQSI_B"
      },
      "source": [
        "The code in the next cell will then evaluate the classification performance of your best classifier\n",
        "when applied to hidden data that is similar (but different) to the MNIST training dataset."
      ],
      "id": "AlDB9KcQSI_B"
    },
    {
      "cell_type": "code",
      "execution_count": null,
      "metadata": {
        "id": "dq0HJyhVSI_C"
      },
      "outputs": [],
      "source": [
        "audio_mnist_test_mfccs = np.genfromtxt(\n",
        "    'AudioMNIST/MFCC/Testing/testing_mfccs.txt')\n",
        "audio_mnist_test_labels = np.genfromtxt(\n",
        "    'AudioMNIST/MFCC/Testing/testing_labels.txt').reshape(-1, 1)"
      ],
      "id": "dq0HJyhVSI_C"
    },
    {
      "cell_type": "code",
      "execution_count": null,
      "metadata": {
        "ExecuteTime": {
          "end_time": "2021-12-24T13:27:11.545320Z",
          "start_time": "2021-12-24T13:27:10.638217Z"
        },
        "deletable": false,
        "hidden": true,
        "nbgrader": {
          "cell_type": "code",
          "checksum": "3427e04558ed2a38294c8b6e054b696f",
          "grade": true,
          "grade_id": "cell-Q3ModelFunctionTesting",
          "locked": false,
          "points": 0,
          "schema_version": 3,
          "solution": true,
          "task": false
        },
        "id": "g75FBxAeSI_C",
        "outputId": "78761aea-34ab-4900-90c1-71e3a8fefc5f"
      },
      "outputs": [
        {
          "name": "stdout",
          "output_type": "stream",
          "text": [
            "The classification accuracy for the Audio MNIST dataset is 91.5 %.\n"
          ]
        }
      ],
      "source": [
        "# YOUR CODE HERE\n",
        "Aumnist_recovered_labels = MNIST_model_function(audio_mnist_test_mfccs)\n",
        "Aumnist_classification_accuracy = classification_accuracy(\n",
        "    audio_mnist_test_labels, Aumnist_recovered_labels)\n",
        "print(\"The classification accuracy for the Audio MNIST dataset is {p} %.\".format(\n",
        "    p=100 * Aumnist_classification_accuracy))"
      ],
      "id": "g75FBxAeSI_C"
    },
    {
      "cell_type": "code",
      "execution_count": null,
      "metadata": {
        "id": "Hh0zn7cGSI_D",
        "outputId": "f3d8e0e8-eecb-47a8-b7e4-69f6c8fa4936"
      },
      "outputs": [
        {
          "name": "stdout",
          "output_type": "stream",
          "text": [
            "The objective function is:  2.2624728320298857\n",
            "The objective function is:  0.30970008542580113\n",
            "The objective function is:  0.20551925147368078\n",
            "The objective function is:  0.16342290072560364\n",
            "The objective function is:  0.1395743641472358\n",
            "The objective function is:  0.1239293885762906\n",
            "The objective function is:  0.11277438271096656\n",
            "The objective function is:  0.10437326330374277\n",
            "The objective function is:  0.09779279143866339\n",
            "The objective function is:  0.09248147627208342\n",
            "The objective function is:  0.08809423448446967\n"
          ]
        }
      ],
      "source": [
        "# With standardrization\n",
        "audio_mnist_training_mfccs, _, _ = standardise(audio_mnist_training_mfccs)\n",
        "\n",
        "Aumnist_data_matrix = linear_regression_data(audio_mnist_training_mfccs)\n",
        "Aumnist_OHV = one_hot_vector_encoding(audio_mnist_training_labels.T[0].astype('int32'))\n",
        "size = Aumnist_data_matrix.shape[1]\n",
        "num_obs = Aumnist_data_matrix.shape[0]\n",
        "clas = Aumnist_OHV.shape[1]\n",
        "# Aumnist_initial_weights = Aumnist_LASSO_optimal_weights\n",
        "Aumnist_initial_weights = np.zeros((size,clas))\n",
        "\n",
        "objective = lambda x: lasso_logistic_regression_cost_function(Aumnist_data_matrix, x, Aumnist_OHV, LASSO_regularisation_parameter)\n",
        "\n",
        "gradient = lambda x: multinomial_logistic_regression_gradient(Aumnist_data_matrix, x, Aumnist_OHV) + LASSO_regularisation_parameter*np.sign(x)\n",
        "\n",
        "# step_size = 0.0001\n",
        "step_size = (3.9*num_obs)/np.linalg.norm(Aumnist_data_matrix)**2\n",
        "\n",
        "Std_Aumnist_LASSO_optimal_weights, Std_Aumnist_LASSO_objective_values = gradient_descent_v2(objective, gradient, Aumnist_initial_weights, \\\n",
        "                    step_size, no_of_iterations=5000, print_output=500, tolerance=1e-3)"
      ],
      "id": "Hh0zn7cGSI_D"
    },
    {
      "cell_type": "code",
      "execution_count": null,
      "metadata": {
        "ExecuteTime": {
          "end_time": "2021-12-24T13:27:11.545320Z",
          "start_time": "2021-12-24T13:27:10.638217Z"
        },
        "hidden": true,
        "nbgrader": {
          "cell_type": "code",
          "checksum": "3427e04558ed2a38294c8b6e054b696f",
          "grade": true,
          "grade_id": "cell-Q3ModelFunctionTesting",
          "locked": false,
          "points": 0,
          "schema_version": 3,
          "solution": true,
          "task": false
        },
        "id": "3UlytnoxSI_D",
        "outputId": "bba42eab-c04b-4184-9ad5-9a2c09a23932"
      },
      "outputs": [
        {
          "name": "stdout",
          "output_type": "stream",
          "text": [
            "The classification accuracy for the Audio MNIST dataset is 95.16666666666667 %.\n"
          ]
        }
      ],
      "source": [
        "# YOUR CODE HERE\n",
        "Aumnist_optimal_weights = Std_Aumnist_LASSO_optimal_weights\n",
        "\n",
        "audio_mnist_test_mfccs, _, _ = standardise(audio_mnist_test_mfccs)\n",
        "Aumnist_recovered_labels = MNIST_model_function(audio_mnist_test_mfccs)\n",
        "Aumnist_classification_accuracy = classification_accuracy(\n",
        "    audio_mnist_test_labels, Aumnist_recovered_labels)\n",
        "print(\"The classification accuracy for the Audio MNIST dataset is {p} %.\".format(\n",
        "    p=100 * Aumnist_classification_accuracy))"
      ],
      "id": "3UlytnoxSI_D"
    },
    {
      "cell_type": "code",
      "execution_count": null,
      "metadata": {
        "scrolled": true,
        "id": "ITGXKsHuSI_D",
        "outputId": "a64540ca-e1b4-4836-a1a2-6d59694043fd"
      },
      "outputs": [
        {
          "data": {
            "text/plain": [
              "<matplotlib.legend.Legend at 0x20485a4d6a0>"
            ]
          },
          "execution_count": 85,
          "metadata": {},
          "output_type": "execute_result"
        },
        {
          "data": {
            "image/png": "[encoded data removed]",
            "text/plain": [
              "<Figure size 432x288 with 1 Axes>"
            ]
          },
          "metadata": {
            "needs_background": "light"
          },
          "output_type": "display_data"
        }
      ],
      "source": [
        "import matplotlib.pyplot as plt\n",
        "objective = [i for i in Aumnist_LASSO_objective_values]\n",
        "plt.plot(objective,label='Non-standardise')\n",
        "objective = [i for i in Std_Aumnist_LASSO_objective_values]\n",
        "plt.plot(objective,label='Standardise')\n",
        "\n",
        "plt.xlabel('Number of Iteration')\n",
        "plt.ylabel('Value of Cost function')\n",
        "plt.title('Gradient Descent on Audio MNIST')\n",
        "plt.legend()"
      ],
      "id": "ITGXKsHuSI_D"
    },
    {
      "cell_type": "markdown",
      "metadata": {
        "id": "BooeCuEnSI_E"
      },
      "source": [
        "### Solved by Neural Net"
      ],
      "id": "BooeCuEnSI_E"
    },
    {
      "cell_type": "code",
      "execution_count": null,
      "metadata": {
        "id": "ZiZZNv2ESI_E"
      },
      "outputs": [],
      "source": [
        "def nn_forward_propagation(data_input, weight_matrix):\n",
        "    no_of_layers = weight_matrix.shape[0]\n",
        "    nn_state = np.empty(2*no_of_layers+1, dtype = np.ndarray)\n",
        "    nn_state[0] = data_input\n",
        "    for l in range(no_of_layers):\n",
        "        nn_state[2*l+1] = model_function(linear_regression_data(nn_state[2*l]), weight_matrix[l])\n",
        "        nn_state[2*l+2] = softmax_function(nn_state[2*l+1], axis = 1)\n",
        "    return nn_state"
      ],
      "id": "ZiZZNv2ESI_E"
    },
    {
      "cell_type": "code",
      "execution_count": null,
      "metadata": {
        "id": "bOsTcjHtSI_F"
      },
      "outputs": [],
      "source": [
        "def nn_back_propagation(data_input, weight_matrix, one_hot_vector_encodings):\n",
        "    nn_state = nn_forward_propagation(data_input, weight_matrix)\n",
        "    no_of_layers = weight_matrix.shape[0]\n",
        "    full_X_gradient = np.empty(no_of_layers, dtype = np.ndarray)\n",
        "    full_W_gradient = np.empty(no_of_layers, dtype = np.ndarray)\n",
        "    full_Z_gradient = np.empty(no_of_layers, dtype = np.ndarray)\n",
        "    full_Z_gradient[no_of_layers-1] = nn_state[-1] - one_hot_vector_encodings\n",
        "    for layer in range(no_of_layers,0,-1):\n",
        "        full_W_gradient[layer-1] = linear_regression_data(nn_state[2*layer-2]).T @ full_Z_gradient[layer-1]\n",
        "        full_X_gradient[layer-1] = full_Z_gradient[layer-1] @ (np.delete(weight_matrix[layer-1],(0), axis = 0)).T\n",
        "        if layer != 1:\n",
        "            product_matrix = full_X_gradient[layer-1]*nn_state[2*layer-2]\n",
        "            sigma_matrix = np.sum(product_matrix,axis=1)\n",
        "            full_Z_gradient[layer-2] = product_matrix - (nn_state[2*layer-2].T*sigma_matrix).T\n",
        "    return full_W_gradient"
      ],
      "id": "bOsTcjHtSI_F"
    },
    {
      "cell_type": "code",
      "execution_count": null,
      "metadata": {
        "id": "Ipe_qnF0SI_F"
      },
      "outputs": [],
      "source": [
        "def nn_cost_function(data_input, weight_matrix, one_hot_vector_encodings):\n",
        "    nn_state = nn_forward_propagation(data_input, weight_matrix)\n",
        "    return np.sum(np.log(np.sum(np.exp(nn_state[-2]), axis=1))\\\n",
        "    - np.sum(one_hot_vector_encodings*nn_state[-2], axis=1))"
      ],
      "id": "Ipe_qnF0SI_F"
    },
    {
      "cell_type": "code",
      "execution_count": null,
      "metadata": {
        "id": "pez1T3fTSI_G"
      },
      "outputs": [],
      "source": [
        "def nn_prediction_function(data_input, weight_matrix):\n",
        "    nn_state = nn_forward_propagation(data_input, weight_matrix)\n",
        "    return np.argmax(nn_state[-1], axis=1)"
      ],
      "id": "pez1T3fTSI_G"
    },
    {
      "cell_type": "code",
      "execution_count": null,
      "metadata": {
        "id": "6PmNT9urSI_G"
      },
      "outputs": [],
      "source": [
        "### BEGIN SOLUTION\n",
        "Audio_data_matrix = Aumnist_data_matrix\n",
        "no_of_layers = 2\n",
        "num_obs = Audio_data_matrix.shape[0]\n",
        "\n",
        "\n",
        "Audio_nn_objective = lambda weight_matrix: nn_cost_function(Audio_data_matrix,weight_matrix,Aumnist_OHV)/num_obs\n",
        "Audio_nn_gradient = lambda weight_matrix: nn_back_propagation(Audio_data_matrix,weight_matrix, Aumnist_OHV)/num_obs\n",
        "Audio_nn_step = 3.9/(np.linalg.norm(Audio_data_matrix, 2) ** 2)\n",
        "Audio_nn_initial_weight_matrix = np.empty(no_of_layers, dtype = np.ndarray)\n",
        "\n",
        "for weight_pos in range(no_of_layers - 1):\n",
        "    Audio_nn_initial_weight_matrix[weight_pos] = np.zeros((Audio_data_matrix.shape[1]+1,Audio_data_matrix.shape[1]))\n",
        "Audio_nn_initial_weight_matrix[no_of_layers - 1] = np.zeros((Audio_data_matrix.shape[1]+1,Aumnist_OHV.shape[1]))\n",
        "Audio_nn_optimal_weights, _ = gradient_descent(Audio_nn_objective, Audio_nn_gradient, Audio_nn_initial_weight_matrix, \\\n",
        "step_size=Audio_nn_step, \\\n",
        "no_of_iterations=1000, print_output=10)"
      ],
      "id": "6PmNT9urSI_G"
    },
    {
      "cell_type": "code",
      "execution_count": null,
      "metadata": {
        "id": "93nOHAxYSI_G"
      },
      "outputs": [],
      "source": [
        "print(\"The two layered neural network successfully classified {acc:2.2f} % of data\".format\\\n",
        "      (acc = 100 * wine_nn_accuracy_rate))"
      ],
      "id": "93nOHAxYSI_G"
    },
    {
      "cell_type": "markdown",
      "metadata": {
        "deletable": false,
        "editable": false,
        "hidden": true,
        "nbgrader": {
          "cell_type": "markdown",
          "checksum": "3a5c9ec8e5b546ee44e25689a24f1cd2",
          "grade": false,
          "grade_id": "cell-EndOfProject",
          "locked": true,
          "schema_version": 3,
          "solution": false,
          "task": false
        },
        "id": "T5UbckRDSI_G"
      },
      "source": [
        "This completes the MTH786 coding project requirements. Please do not forget to write a detailed report on your findings (at most 8 pages) with  $\\LaTeX$  and your favourite editor. If no editor is at hand, please feel free to use online editors such as [Overleaf](https://www.overleaf.com/)."
      ],
      "id": "T5UbckRDSI_G"
    }
  ],
  "metadata": {
    "hide_code_all_hidden": false,
    "hide_input": false,
    "kernelspec": {
      "display_name": "Python 3",
      "language": "python",
      "name": "python3"
    },
    "language_info": {
      "codemirror_mode": {
        "name": "ipython",
        "version": 3
      },
      "file_extension": ".py",
      "mimetype": "text/x-python",
      "name": "python",
      "nbconvert_exporter": "python",
      "pygments_lexer": "ipython3",
      "version": "3.7.6"
    },
    "toc": {
      "base_numbering": 1,
      "nav_menu": {},
      "number_sections": false,
      "sideBar": true,
      "skip_h1_title": false,
      "title_cell": "Table of Contents",
      "title_sidebar": "Contents",
      "toc_cell": false,
      "toc_position": {},
      "toc_section_display": true,
      "toc_window_display": true
    },
    "varInspector": {
      "cols": {
        "lenName": 16,
        "lenType": 16,
        "lenVar": 40
      },
      "kernels_config": {
        "python": {
          "delete_cmd_postfix": "",
          "delete_cmd_prefix": "del ",
          "library": "var_list.py",
          "varRefreshCmd": "print(var_dic_list())"
        },
        "r": {
          "delete_cmd_postfix": ") ",
          "delete_cmd_prefix": "rm(",
          "library": "var_list.r",
          "varRefreshCmd": "cat(var_dic_list()) "
        }
      },
      "types_to_exclude": [
        "module",
        "function",
        "builtin_function_or_method",
        "instance",
        "_Feature"
      ],
      "window_display": false
    },
    "colab": {
      "name": "MTH786FinalProject.ipynb",
      "provenance": [],
      "include_colab_link": true
    }
  },
  "nbformat": 4,
  "nbformat_minor": 5
}